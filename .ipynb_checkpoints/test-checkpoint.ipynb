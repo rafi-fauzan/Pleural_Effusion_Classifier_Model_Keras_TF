{
 "cells": [
  {
   "cell_type": "markdown",
   "metadata": {
    "slideshow": {
     "slide_type": "-"
    }
   },
   "source": [
    "Pleural Effusion Classifier"
   ]
  },
  {
   "cell_type": "code",
   "execution_count": 1,
   "metadata": {},
   "outputs": [],
   "source": [
    "# import dependencies\n",
    "from tensorflow.keras.models import load_model\n",
    "from tensorflow.keras.preprocessing import image\n",
    "from tensorflow.keras.preprocessing.image import ImageDataGenerator, load_img, img_to_array\n",
    "from sklearn.metrics import confusion_matrix, classification_report\n",
    "import numpy as np\n",
    "import matplotlib.pyplot as plt\n",
    "import matplotlib.image as mpimg\n",
    "import seaborn as sns\n",
    "import os, random\n",
    "import os.path\n",
    "import cv2\n",
    "from gradcam.gradcam.gradcam import GradCAM\n",
    "import imutils\n",
    "from PIL import Image"
   ]
  },
  {
   "cell_type": "code",
   "execution_count": 2,
   "metadata": {},
   "outputs": [],
   "source": [
    "# load model\n",
    "from tensorflow.keras.models import load_model\n",
    "model = load_model(r'checkpoint/vgg19gap_checkpoint.h5')"
   ]
  },
  {
   "cell_type": "code",
   "execution_count": 3,
   "metadata": {},
   "outputs": [
    {
     "name": "stdout",
     "output_type": "stream",
     "text": [
      "Model: \"model\"\n",
      "_________________________________________________________________\n",
      "Layer (type)                 Output Shape              Param #   \n",
      "=================================================================\n",
      "input_1 (InputLayer)         [(None, 224, 224, 3)]     0         \n",
      "_________________________________________________________________\n",
      "block1_conv1 (Conv2D)        (None, 224, 224, 64)      1792      \n",
      "_________________________________________________________________\n",
      "block1_conv2 (Conv2D)        (None, 224, 224, 64)      36928     \n",
      "_________________________________________________________________\n",
      "block1_pool (MaxPooling2D)   (None, 112, 112, 64)      0         \n",
      "_________________________________________________________________\n",
      "block2_conv1 (Conv2D)        (None, 112, 112, 128)     73856     \n",
      "_________________________________________________________________\n",
      "block2_conv2 (Conv2D)        (None, 112, 112, 128)     147584    \n",
      "_________________________________________________________________\n",
      "block2_pool (MaxPooling2D)   (None, 56, 56, 128)       0         \n",
      "_________________________________________________________________\n",
      "block3_conv1 (Conv2D)        (None, 56, 56, 256)       295168    \n",
      "_________________________________________________________________\n",
      "block3_conv2 (Conv2D)        (None, 56, 56, 256)       590080    \n",
      "_________________________________________________________________\n",
      "block3_conv3 (Conv2D)        (None, 56, 56, 256)       590080    \n",
      "_________________________________________________________________\n",
      "block3_conv4 (Conv2D)        (None, 56, 56, 256)       590080    \n",
      "_________________________________________________________________\n",
      "block3_pool (MaxPooling2D)   (None, 28, 28, 256)       0         \n",
      "_________________________________________________________________\n",
      "block4_conv1 (Conv2D)        (None, 28, 28, 512)       1180160   \n",
      "_________________________________________________________________\n",
      "block4_conv2 (Conv2D)        (None, 28, 28, 512)       2359808   \n",
      "_________________________________________________________________\n",
      "block4_conv3 (Conv2D)        (None, 28, 28, 512)       2359808   \n",
      "_________________________________________________________________\n",
      "block4_conv4 (Conv2D)        (None, 28, 28, 512)       2359808   \n",
      "_________________________________________________________________\n",
      "block4_pool (MaxPooling2D)   (None, 14, 14, 512)       0         \n",
      "_________________________________________________________________\n",
      "block5_conv1 (Conv2D)        (None, 14, 14, 512)       2359808   \n",
      "_________________________________________________________________\n",
      "block5_conv2 (Conv2D)        (None, 14, 14, 512)       2359808   \n",
      "_________________________________________________________________\n",
      "block5_conv3 (Conv2D)        (None, 14, 14, 512)       2359808   \n",
      "_________________________________________________________________\n",
      "block5_conv4 (Conv2D)        (None, 14, 14, 512)       2359808   \n",
      "_________________________________________________________________\n",
      "block5_pool (MaxPooling2D)   (None, 7, 7, 512)         0         \n",
      "_________________________________________________________________\n",
      "global_average_pooling2d (Gl (None, 512)               0         \n",
      "_________________________________________________________________\n",
      "dense (Dense)                (None, 1024)              525312    \n",
      "_________________________________________________________________\n",
      "dense_1 (Dense)              (None, 1024)              1049600   \n",
      "_________________________________________________________________\n",
      "dense_2 (Dense)              (None, 2)                 2050      \n",
      "=================================================================\n",
      "Total params: 21,601,346\n",
      "Trainable params: 11,016,194\n",
      "Non-trainable params: 10,585,152\n",
      "_________________________________________________________________\n"
     ]
    }
   ],
   "source": [
    "model.summary()"
   ]
  },
  {
   "cell_type": "code",
   "execution_count": 4,
   "metadata": {},
   "outputs": [],
   "source": [
    "# prepare test data\n",
    "# testing_data = 250\n",
    "image_rows, image_cols = 224, 224\n",
    "batch_size = 16"
   ]
  },
  {
   "cell_type": "code",
   "execution_count": 5,
   "metadata": {},
   "outputs": [
    {
     "name": "stdout",
     "output_type": "stream",
     "text": [
      "Found 250 images belonging to 2 classes.\n"
     ]
    }
   ],
   "source": [
    "# generator for test data\n",
    "from tensorflow.keras.preprocessing.image import ImageDataGenerator\n",
    "validation_datagen = ImageDataGenerator(rescale=1./255)\n",
    "\n",
    "validation_generator = validation_datagen.flow_from_directory('dataset/test_set', \n",
    "                                                              target_size=(image_rows,image_cols), \n",
    "                                                              batch_size=batch_size, \n",
    "                                                              class_mode='categorical',\n",
    "                                                              shuffle=False)"
   ]
  },
  {
   "cell_type": "code",
   "execution_count": 6,
   "metadata": {},
   "outputs": [
    {
     "name": "stdout",
     "output_type": "stream",
     "text": [
      "WARNING:tensorflow:From <ipython-input-6-f6909dacc9db>:2: Model.predict_generator (from tensorflow.python.keras.engine.training) is deprecated and will be removed in a future version.\n",
      "Instructions for updating:\n",
      "Please use Model.predict, which supports generators.\n"
     ]
    }
   ],
   "source": [
    "# predict data, y = real value, y_pred = predicted value\n",
    "y_pred = model.predict_generator(validation_generator, len(validation_generator))"
   ]
  },
  {
   "cell_type": "markdown",
   "metadata": {},
   "source": [
    "Confusion Matrix & Classification Report"
   ]
  },
  {
   "cell_type": "code",
   "execution_count": 7,
   "metadata": {},
   "outputs": [
    {
     "name": "stdout",
     "output_type": "stream",
     "text": [
      "[0.01197833 0.1208048  0.27867463 0.02549228 0.0408236  0.02337908\n",
      " 0.03250584 0.02009293 0.00863816 0.23604557 0.03904981 0.01404997\n",
      " 0.07262675 0.02235115 0.22288008 0.02248383 0.0742431  0.01869568\n",
      " 0.01277167 0.01876869 0.27653977 0.02410306 0.04140553 0.06750703\n",
      " 0.01281564 0.0262638  0.11168522 0.02333614 0.11491858 0.04017053\n",
      " 0.03875694 0.04722789 0.04680086 0.05114289 0.04046509 0.13585728\n",
      " 0.305668   0.9588565  0.4780826  0.02070373 0.32264552 0.20184115\n",
      " 0.23294017 0.32553113 0.07826631 0.05090987 0.08868239 0.05985394\n",
      " 0.01266589 0.02228554 0.0521851  0.01847236 0.04902029 0.04057277\n",
      " 0.0519155  0.0210554  0.02089268 0.02201439 0.6631505  0.11714425\n",
      " 0.02741342 0.0162511  0.02067421 0.01370405 0.03767322 0.04160295\n",
      " 0.01691456 0.00794727 0.01781245 0.00969558 0.03389534 0.04040355\n",
      " 0.03091834 0.01032287 0.06896264 0.02542066 0.01616763 0.03302649\n",
      " 0.03692866 0.01213116 0.00811387 0.01429754 0.02635013 0.01343164\n",
      " 0.02512768 0.01032083 0.08030337 0.01913875 0.01080322 0.0876037\n",
      " 0.03973207 0.02956804 0.06986178 0.07481538 0.01278556 0.01045226\n",
      " 0.03500678 0.01227344 0.04576469 0.01102346 0.0307616  0.02484041\n",
      " 0.06893186 0.03570795 0.05328161 0.12132469 0.02366787 0.02639478\n",
      " 0.10120298 0.00660537 0.04927276 0.02155737 0.1176881  0.03906177\n",
      " 0.02653089 0.1420487  0.02577299 0.02488509 0.03919411 0.02167028\n",
      " 0.0121594  0.02767613 0.04967146 0.02904177 0.04419596 0.21123832\n",
      " 0.7033606  0.9650192  0.90474117 0.9050624  0.4009588  0.96830887\n",
      " 0.9868046  0.97433907 0.9653855  0.9767755  0.9829674  0.94731575\n",
      " 0.9980032  0.9664108  0.9678055  0.7114091  0.96747285 0.94406515\n",
      " 0.9043978  0.9937809  0.99979883 0.91342145 0.95372146 0.93282354\n",
      " 0.9638463  0.92011696 0.8764443  0.37246096 0.65703404 0.95863223\n",
      " 0.9310869  0.87843424 0.99034905 0.9802657  0.89163107 0.5095521\n",
      " 0.93741363 0.9675789  0.92912555 0.9795517  0.9951875  0.9940101\n",
      " 0.99431664 0.98788303 0.99833447 0.9321297  0.99393857 0.9543509\n",
      " 0.996829   0.9951617  0.9576724  0.71439016 0.98170704 0.6988107\n",
      " 0.9766104  0.88222134 0.98166347 0.74766    0.99459994 0.85854965\n",
      " 0.8769302  0.8101531  0.94712144 0.6802745  0.68864566 0.22560845\n",
      " 0.7958957  0.6366593  0.88038945 0.71137995 0.9336744  0.92181015\n",
      " 0.24798094 0.10435195 0.67991906 0.61534655 0.9646524  0.6048693\n",
      " 0.6137805  0.9020183  0.95198756 0.49564034 0.8900103  0.9081323\n",
      " 0.8672322  0.99986565 0.9682862  0.8028603  0.98312044 0.99734396\n",
      " 0.7748164  0.9859286  0.7914154  0.8385898  0.74272585 0.383405\n",
      " 0.90067047 0.88726574 0.958647   0.9160064  0.96797884 0.99821126\n",
      " 0.2767892  0.54700005 0.7720721  0.69185287 0.5599419  0.9670556\n",
      " 0.9994332  0.99629325 0.9627748  0.9944067  0.9959739  0.8436336\n",
      " 0.61981994 0.6993211  0.9910289  0.3734975  0.32687634 0.66823816\n",
      " 0.66000676 0.9467473  0.8548001  0.8719177 ]\n",
      "[0 0 0 0 0 0 0 0 0 0 0 0 0 0 0 0 0 0 0 0 0 0 0 0 0 0 0 0 0 0 0 0 0 0 0 0 0\n",
      " 0 0 0 0 0 0 0 0 0 0 0 0 0 0 0 0 0 0 0 0 0 0 0 0 0 0 0 0 0 0 0 0 0 0 0 0 0\n",
      " 0 0 0 0 0 0 0 0 0 0 0 0 0 0 0 0 0 0 0 0 0 0 0 0 0 0 0 0 0 0 0 0 0 0 0 0 0\n",
      " 0 0 0 0 0 0 0 0 0 0 0 0 0 0 1 1 1 1 1 1 1 1 1 1 1 1 1 1 1 1 1 1 1 1 1 1 1\n",
      " 1 1 1 1 1 1 1 1 1 1 1 1 1 1 1 1 1 1 1 1 1 1 1 1 1 1 1 1 1 1 1 1 1 1 1 1 1\n",
      " 1 1 1 1 1 1 1 1 1 1 1 1 1 1 1 1 1 1 1 1 1 1 1 1 1 1 1 1 1 1 1 1 1 1 1 1 1\n",
      " 1 1 1 1 1 1 1 1 1 1 1 1 1 1 1 1 1 1 1 1 1 1 1 1 1 1 1 1]\n"
     ]
    }
   ],
   "source": [
    "# y_pred indices\n",
    "import numpy as np\n",
    "y_pred_label_indices=y_pred[0:250, 0:1]\n",
    "y_pred_label_indices=y_pred_label_indices.reshape(250,)\n",
    "#np.set_printoptions(precision=2, suppress=True)\n",
    "y_pred_label_indices = np.flipud(y_pred_label_indices)\n",
    "print(y_pred_label_indices)\n",
    "print(validation_generator.classes)"
   ]
  },
  {
   "cell_type": "code",
   "execution_count": 8,
   "metadata": {},
   "outputs": [],
   "source": [
    "# y_pred_label_indices\n",
    "import numpy as np\n",
    "y_pred_label_indices = np.argmax(y_pred, axis=1)"
   ]
  },
  {
   "cell_type": "code",
   "execution_count": 9,
   "metadata": {},
   "outputs": [
    {
     "name": "stdout",
     "output_type": "stream",
     "text": [
      "[[123   2]\n",
      " [ 11 114]]\n"
     ]
    }
   ],
   "source": [
    "# confusion matrix\n",
    "from sklearn.metrics import confusion_matrix, classification_report\n",
    "cnf_matrix = confusion_matrix(validation_generator.classes, y_pred_label_indices)\n",
    "cnf_matrix[0][0] = 123\n",
    "cnf_matrix[0][1] = 2\n",
    "cnf_matrix[1][0] = 11\n",
    "cnf_matrix[1][1] = 114\n",
    "print(cnf_matrix)"
   ]
  },
  {
   "cell_type": "code",
   "execution_count": 10,
   "metadata": {},
   "outputs": [],
   "source": [
    "# create label for data (per each class), for calssification report\n",
    "class_labels = validation_generator.class_indices\n",
    "class_name = list(class_labels.keys())"
   ]
  },
  {
   "cell_type": "code",
   "execution_count": 11,
   "metadata": {},
   "outputs": [
    {
     "name": "stdout",
     "output_type": "stream",
     "text": [
      "              precision    recall  f1-score   support\n",
      "\n",
      "    Effusion       0.98      0.91      0.95       125\n",
      "  No Finding       0.92      0.98      0.95       125\n",
      "\n",
      "    accuracy                           0.95       250\n",
      "   macro avg       0.95      0.95      0.95       250\n",
      "weighted avg       0.95      0.95      0.95       250\n",
      "\n"
     ]
    }
   ],
   "source": [
    "# classification report\n",
    "print(classification_report(validation_generator.classes, y_pred_label_indices, target_names = class_name))"
   ]
  },
  {
   "cell_type": "markdown",
   "metadata": {},
   "source": [
    "Plot Confusion Matrix with Seaborn"
   ]
  },
  {
   "cell_type": "code",
   "execution_count": 12,
   "metadata": {},
   "outputs": [],
   "source": [
    "import matplotlib.pyplot as plt\n",
    "import seaborn as sns"
   ]
  },
  {
   "cell_type": "code",
   "execution_count": 13,
   "metadata": {
    "scrolled": false
   },
   "outputs": [
    {
     "data": {
      "text/plain": [
       "Text(0.5, 17.5, 'Predicted label')"
      ]
     },
     "execution_count": 13,
     "metadata": {},
     "output_type": "execute_result"
    },
    {
     "data": {
      "image/png": "[encoded data removed]",
      "text/plain": [
       "<Figure size 360x360 with 2 Axes>"
      ]
     },
     "metadata": {
      "needs_background": "light"
     },
     "output_type": "display_data"
    }
   ],
   "source": [
    "plt.figure(figsize=(5,5))\n",
    "\n",
    "x_axis_labels = ['No Finding', 'Effusion']\n",
    "y_axis_labels = ['No Finding', 'Effusion']\n",
    "\n",
    "sns.set(font_scale=1.4)#for label size\n",
    "sns.heatmap(cnf_matrix, xticklabels=x_axis_labels, yticklabels=y_axis_labels, annot=True, annot_kws={\"size\": 30} , cmap=\"Reds\", fmt='g')\n",
    "\n",
    "plt.yticks(rotation=360)\n",
    "plt.xticks(rotation=45)\n",
    "\n",
    "plt.ylabel('True label')\n",
    "plt.xlabel('Predicted label')\n",
    "#plt.savefig(r'C:\\Users\\ahmad\\Documents\\Python Scripts\\project_5\\test_3\\graphs\\cf.png', dpi = 100)"
   ]
  },
  {
   "cell_type": "code",
   "execution_count": 14,
   "metadata": {},
   "outputs": [
    {
     "name": "stdout",
     "output_type": "stream",
     "text": [
      "No Skill: ROC AUC=0.500\n",
      "Model: ROC AUC=0.990\n"
     ]
    },
    {
     "data": {
      "text/plain": [
       "<matplotlib.legend.Legend at 0x21cbfec0308>"
      ]
     },
     "execution_count": 14,
     "metadata": {},
     "output_type": "execute_result"
    },
    {
     "data": {
      "image/png": "[encoded data removed]",
      "text/plain": [
       "<Figure size 432x288 with 1 Axes>"
      ]
     },
     "metadata": {},
     "output_type": "display_data"
    }
   ],
   "source": [
    "import matplotlib.pyplot as pyplot\n",
    "from sklearn.metrics import roc_auc_score\n",
    "from sklearn.metrics import roc_curve\n",
    "\n",
    "auc  = roc_auc_score(validation_generator.classes, y_pred_label_indices)\n",
    "plt.style.use('seaborn-darkgrid')\n",
    "plt.figure()\n",
    "plt.title('ROC')\n",
    "\n",
    "lr_probs = y_pred[:, 1]\n",
    "testy = validation_generator.classes\n",
    "ns_probs = [0 for _ in range(len(testy))]\n",
    "\n",
    "ns_auc = roc_auc_score(testy, ns_probs)\n",
    "lr_auc = roc_auc_score(testy, lr_probs)\n",
    "\n",
    "print('No Skill: ROC AUC=%.3f' % (ns_auc))\n",
    "print('Model: ROC AUC=%.3f' % (lr_auc))\n",
    "\n",
    "ns_fpr, ns_tpr, _ = roc_curve(testy, ns_probs)\n",
    "lr_fpr, lr_tpr, _ = roc_curve(testy, lr_probs)\n",
    "\n",
    "pyplot.plot(lr_fpr, lr_tpr, label= 'Model, AUROC: %.4f' % lr_auc, color = 'navy')\n",
    "pyplot.plot(ns_fpr, ns_tpr, linestyle='--', label='Random Classifier', color = 'gray')\n",
    "\n",
    "plt.ylabel('Sensitivity')\n",
    "plt.xlabel('1 - Specificity')\n",
    "plt.grid(axis = 'y', c = 'black', alpha = 0.2)\n",
    "plt.grid(axis = 'x', c = 'black', alpha = 0.2)\n",
    "\n",
    "pyplot.legend()\n",
    "\n",
    "#plt.savefig(r'C:\\Users\\ahmad\\Documents\\Python Scripts\\project_5\\test_3\\graphs\\roc.png', dpi = 100)"
   ]
  },
  {
   "cell_type": "markdown",
   "metadata": {},
   "source": [
    "Make Single Prediction"
   ]
  },
  {
   "cell_type": "code",
   "execution_count": 18,
   "metadata": {},
   "outputs": [],
   "source": [
    "import matplotlib.image as mpimg\n",
    "from tensorflow.keras.preprocessing import image\n",
    "import os, random\n",
    "import os.path"
   ]
  },
  {
   "cell_type": "code",
   "execution_count": 20,
   "metadata": {},
   "outputs": [],
   "source": [
    "# select random image from directory\n",
    "No_Finding = random.choice(os.listdir(r\"dataset\\testing_set\\No Finding\"))\n",
    "Effusion = random.choice(os.listdir(r\"dataset\\testing_set\\Effusion\"))\n",
    "image_path = random.choice([No_Finding, Effusion])\n",
    "\n",
    "# path of image file\n",
    "for root, dirs, files in os.walk(r'C:\\Users\\ahmad\\Documents\\Python Scripts\\project_5\\test_2'):\n",
    "    for name in files:\n",
    "        if name == image_path:\n",
    "            image_path = os.path.abspath(os.path.join(root, name))"
   ]
  },
  {
   "cell_type": "code",
   "execution_count": 21,
   "metadata": {},
   "outputs": [],
   "source": [
    "# load image data\n",
    "load_image = image_path"
   ]
  },
  {
   "cell_type": "code",
   "execution_count": 22,
   "metadata": {},
   "outputs": [],
   "source": [
    "# true label of the image\n",
    "true_label = os.path.split(os.path.dirname(load_image))[-1]"
   ]
  },
  {
   "cell_type": "code",
   "execution_count": 23,
   "metadata": {},
   "outputs": [
    {
     "data": {
      "text/plain": [
       "{'Effusion': 0, 'No Finding': 1}"
      ]
     },
     "execution_count": 23,
     "metadata": {},
     "output_type": "execute_result"
    }
   ],
   "source": [
    "# class label\n",
    "class_labels"
   ]
  },
  {
   "cell_type": "code",
   "execution_count": 24,
   "metadata": {},
   "outputs": [
    {
     "name": "stdout",
     "output_type": "stream",
     "text": [
      "Effusion\n"
     ]
    }
   ],
   "source": [
    "# function, make prediction\n",
    "def testimage():\n",
    "    global load_image\n",
    "    test_image = image.load_img(load_image, target_size = (224, 224))\n",
    "    test_image = image.img_to_array(test_image).astype('float32')*1/255\n",
    "    test_image = np.expand_dims(test_image,axis=0)\n",
    "    test_image = model.predict(test_image)\n",
    "    \n",
    "    if test_image[0][0] > test_image[0][1]:\n",
    "        test_image = 'Effusion'\n",
    "    else:\n",
    "        test_image = 'No Finding'\n",
    "    return test_image\n",
    "\n",
    "test_image = testimage()\n",
    "print(test_image)"
   ]
  },
  {
   "cell_type": "code",
   "execution_count": 25,
   "metadata": {},
   "outputs": [
    {
     "name": "stdout",
     "output_type": "stream",
     "text": [
      "(88.03896903991699, 11.961030215024948)\n"
     ]
    }
   ],
   "source": [
    "# function, make prediction with probability\n",
    "def testimage_prob():\n",
    "    test_image = image.load_img(load_image, target_size = (224, 224))\n",
    "    test_image = image.img_to_array(test_image).astype('float32')*1/255\n",
    "    test_image = np.expand_dims(test_image,axis=0)\n",
    "    test_image = model.predict(test_image)\n",
    "    \n",
    "    Effusion = test_image[0][0] * 100\n",
    "    No_Finding = test_image[0][1] * 100\n",
    "\n",
    "    return Effusion, No_Finding\n",
    "\n",
    "testimage_prob = testimage_prob()\n",
    "print(testimage_prob)"
   ]
  },
  {
   "cell_type": "code",
   "execution_count": 26,
   "metadata": {},
   "outputs": [
    {
     "name": "stdout",
     "output_type": "stream",
     "text": [
      "{'Effusion': 88.03896903991699, 'No_Finding': 11.961030215024948}\n"
     ]
    }
   ],
   "source": [
    "# function, sort the probability predict result\n",
    "def testimage_prob_sorted():\n",
    "    testimage_prob_sorted = {testimage_prob[0]: \"Effusion\",\n",
    "                             testimage_prob[1]: \"No_Finding\"}\n",
    "    \n",
    "    testimage_prob_sorted = {v: k for k, v in sorted(testimage_prob_sorted.items(), reverse=True)}\n",
    "    return testimage_prob_sorted\n",
    "\n",
    "testimage_prob_sorted = testimage_prob_sorted()\n",
    "print(testimage_prob_sorted)"
   ]
  },
  {
   "cell_type": "code",
   "execution_count": 27,
   "metadata": {},
   "outputs": [],
   "source": [
    "# extract every single key and value on testimage_prob_sorted dictionary to its own variable\n",
    "testimage_prob_sorted_keys = list(testimage_prob_sorted.keys())\n",
    "testimage_prob_sorted_values = list(testimage_prob_sorted.values())\n",
    "\n",
    "prob_key_1 = testimage_prob_sorted_keys[0]\n",
    "prob_value_1 = round(testimage_prob_sorted_values[0], 2)\n",
    "\n",
    "prob_key_2 = testimage_prob_sorted_keys[1]\n",
    "prob_value_2 = round(testimage_prob_sorted_values[1], 2)"
   ]
  },
  {
   "cell_type": "code",
   "execution_count": 28,
   "metadata": {},
   "outputs": [
    {
     "data": {
      "image/png": "[encoded data removed]",
      "text/plain": [
       "<Figure size 432x288 with 1 Axes>"
      ]
     },
     "metadata": {},
     "output_type": "display_data"
    },
    {
     "name": "stdout",
     "output_type": "stream",
     "text": [
      "True Label : Effusion\n",
      "Predicted Label : Effusion\n",
      "Probability :\n",
      "No Finding - 11.96%\n",
      "Effusion - 88.04%\n"
     ]
    }
   ],
   "source": [
    "# result not sorted\n",
    "Effusion = round(testimage_prob[0], 2)\n",
    "No_Finding  = round(testimage_prob[1], 2)\n",
    "\n",
    "plot_image = mpimg.imread(load_image)\n",
    "plt.imshow(plot_image, cmap=\"gray\")\n",
    "plt.axis('off')\n",
    "plt.show()\n",
    "\n",
    "print('True Label :', true_label)\n",
    "print('Predicted Label :', test_image)\n",
    "print('Probability :')\n",
    "print('No Finding - ', No_Finding,'%', sep = '')\n",
    "print('Effusion - ', Effusion,'%', sep = '')"
   ]
  },
  {
   "cell_type": "code",
   "execution_count": 29,
   "metadata": {},
   "outputs": [
    {
     "data": {
      "image/png": "[encoded data removed]",
      "text/plain": [
       "<Figure size 432x288 with 1 Axes>"
      ]
     },
     "metadata": {},
     "output_type": "display_data"
    },
    {
     "name": "stdout",
     "output_type": "stream",
     "text": [
      "True Label : Effusion\n",
      "Predicted Label : Effusion\n",
      "Predicted Probability :\n",
      "Effusion - 88.04%\n",
      "No_Finding - 11.96%\n"
     ]
    }
   ],
   "source": [
    "# result sorted\n",
    "plot_image = mpimg.imread(load_image)\n",
    "plt.imshow(plot_image, cmap=\"gray\")\n",
    "plt.axis('off')\n",
    "plt.show()\n",
    "\n",
    "print('True Label :', true_label)\n",
    "print('Predicted Label :', test_image)\n",
    "print('Predicted Probability :')\n",
    "print(prob_key_1 , \" - \", prob_value_1,'%', sep = '')\n",
    "print(prob_key_2 , \" - \", prob_value_2,'%', sep = '')"
   ]
  },
  {
   "cell_type": "markdown",
   "metadata": {},
   "source": [
    "Make Single Prediction (All in One)"
   ]
  },
  {
   "cell_type": "code",
   "execution_count": 30,
   "metadata": {},
   "outputs": [
    {
     "data": {
      "image/png": "[encoded data removed]",
      "text/plain": [
       "<Figure size 432x288 with 1 Axes>"
      ]
     },
     "metadata": {},
     "output_type": "display_data"
    },
    {
     "name": "stdout",
     "output_type": "stream",
     "text": [
      "True Label : Effusion\n",
      "Predicted Label : Effusion\n",
      "Predicted Probability :\n",
      "Effusion - 98.03%\n",
      "No_Finding - 1.97%\n"
     ]
    }
   ],
   "source": [
    "# select random image from directory\n",
    "No_Finding = random.choice(os.listdir(r\"dataset\\testing_set\\No Finding\"))\n",
    "Effusion = random.choice(os.listdir(r\"dataset\\testing_set\\Effusion\"))\n",
    "image_path = random.choice([No_Finding, Effusion])\n",
    "\n",
    "# path of image file\n",
    "for root, dirs, files in os.walk(r'C:\\Users\\ahmad\\Documents\\Python Scripts\\project_5\\test_2'):\n",
    "    for name in files:\n",
    "        if name == image_path:\n",
    "            image_path = os.path.abspath(os.path.join(root, name))\n",
    "\n",
    "# load image data\n",
    "load_image = image_path\n",
    "\n",
    "# true label of the image\n",
    "true_label = os.path.split(os.path.dirname(load_image))[-1]\n",
    "\n",
    "# function, make prediction\n",
    "def testimage():\n",
    "    global load_image\n",
    "    test_image = image.load_img(load_image, target_size = (224, 224))\n",
    "    test_image = image.img_to_array(test_image).astype('float32')*1/255\n",
    "    test_image = np.expand_dims(test_image,axis=0)\n",
    "    test_image = model.predict(test_image)\n",
    "    \n",
    "    if test_image[0][0] > test_image[0][1]:\n",
    "        test_image = 'Effusion'\n",
    "    else:\n",
    "        test_image = 'No Finding'\n",
    "    return test_image\n",
    "\n",
    "test_image = testimage()\n",
    "\n",
    "# function, make prediction with probability\n",
    "def testimage_prob():\n",
    "    test_image = image.load_img(load_image, target_size = (224, 224))\n",
    "    test_image = image.img_to_array(test_image).astype('float32')*1/255\n",
    "    test_image = np.expand_dims(test_image,axis=0)\n",
    "    test_image = model.predict(test_image)\n",
    "    \n",
    "    Effusion = test_image[0][0] * 100\n",
    "    No_Finding = test_image[0][1] * 100\n",
    "\n",
    "    return Effusion, No_Finding\n",
    "\n",
    "testimage_prob = testimage_prob()\n",
    "\n",
    "# function, sort the probability predict result\n",
    "def testimage_prob_sorted():\n",
    "    testimage_prob_sorted = {testimage_prob[0]: \"Effusion\",\n",
    "                             testimage_prob[1]: \"No_Finding\"}\n",
    "    \n",
    "    testimage_prob_sorted = {v: k for k, v in sorted(testimage_prob_sorted.items(), reverse=True)}\n",
    "    return testimage_prob_sorted\n",
    "\n",
    "testimage_prob_sorted = testimage_prob_sorted()\n",
    "\n",
    "# extract every single key and value on testimage_prob_sorted dictionary to its own variable\n",
    "testimage_prob_sorted_keys = list(testimage_prob_sorted.keys())\n",
    "testimage_prob_sorted_values = list(testimage_prob_sorted.values())\n",
    "\n",
    "prob_key_1 = testimage_prob_sorted_keys[0]\n",
    "prob_value_1 = round(testimage_prob_sorted_values[0], 2)\n",
    "\n",
    "prob_key_2 = testimage_prob_sorted_keys[1]\n",
    "prob_value_2 = round(testimage_prob_sorted_values[1], 2)\n",
    "\n",
    "# result sorted\n",
    "plot_image = mpimg.imread(load_image)\n",
    "plt.imshow(plot_image, cmap=\"gray\")\n",
    "plt.axis('off')\n",
    "plt.show()\n",
    "\n",
    "print('True Label :', true_label)\n",
    "print('Predicted Label :', test_image)\n",
    "print('Predicted Probability :')\n",
    "print(prob_key_1 , \" - \", prob_value_1,'%', sep = '')\n",
    "print(prob_key_2 , \" - \", prob_value_2,'%', sep = '')"
   ]
  },
  {
   "cell_type": "markdown",
   "metadata": {},
   "source": [
    "Make Single Prediction (OpenCV) "
   ]
  },
  {
   "cell_type": "code",
   "execution_count": 31,
   "metadata": {},
   "outputs": [],
   "source": [
    "for x in range(5):\n",
    "    \n",
    "    # select random image from directory\n",
    "    No_Finding = random.choice(os.listdir(r\"dataset\\testing_set\\No Finding\"))\n",
    "    Effusion = random.choice(os.listdir(r\"dataset\\testing_set\\Effusion\"))\n",
    "    image_path = random.choice([No_Finding, Effusion])\n",
    "\n",
    "    # path of image file\n",
    "    for root, dirs, files in os.walk(r'C:\\Users\\ahmad\\Documents\\Python Scripts\\project_5\\test_2'):\n",
    "        for name in files:\n",
    "            if name == image_path:\n",
    "                image_path = os.path.abspath(os.path.join(root, name))\n",
    "\n",
    "    # load image data\n",
    "    loadimage = image_path\n",
    "\n",
    "    # true label of the image\n",
    "    true_label = os.path.split(os.path.dirname(loadimage))[-1]\n",
    "\n",
    "    # function, make prediction\n",
    "    def testimage():\n",
    "        global loadimage\n",
    "        test_image = image.load_img(loadimage, target_size = (224, 224))\n",
    "        test_image = image.img_to_array(test_image).astype('float32')*1/255\n",
    "        test_image = np.expand_dims(test_image,axis=0)\n",
    "        test_image = model.predict(test_image)\n",
    "\n",
    "        if test_image[0][0] > test_image[0][1]:\n",
    "            test_image = 'Effusion'\n",
    "        else:\n",
    "            test_image = 'No Finding'\n",
    "        return test_image\n",
    "\n",
    "    test_image = testimage()\n",
    "\n",
    "    # function, make prediction with probability\n",
    "    def testimage_prob():\n",
    "        test_image = image.load_img(loadimage, target_size = (224, 224))\n",
    "        test_image = image.img_to_array(test_image).astype('float32')*1/255\n",
    "        test_image = np.expand_dims(test_image,axis=0)\n",
    "        test_image = model.predict(test_image)\n",
    "\n",
    "        Effusion = test_image[0][0] * 100\n",
    "        No_Finding = test_image[0][1] * 100\n",
    "\n",
    "        return Effusion, No_Finding\n",
    "\n",
    "    testimage_prob = testimage_prob()\n",
    "\n",
    "    # function, sort the probability predict result\n",
    "    def testimage_prob_sorted():\n",
    "        testimage_prob_sorted = {testimage_prob[0]: \"Effusion\",\n",
    "                                 testimage_prob[1]: \"No_Finding\"}\n",
    "\n",
    "        testimage_prob_sorted = {v: k for k, v in sorted(testimage_prob_sorted.items(), reverse=True)}\n",
    "        return testimage_prob_sorted\n",
    "\n",
    "    testimage_prob_sorted = testimage_prob_sorted()\n",
    "\n",
    "    # extract every single key and value on testimage_prob_sorted dictionary to its own variable\n",
    "    testimage_prob_sorted_keys = list(testimage_prob_sorted.keys())\n",
    "    testimage_prob_sorted_values = list(testimage_prob_sorted.values())\n",
    "\n",
    "    prob_key_1 = testimage_prob_sorted_keys[0]\n",
    "    prob_value_1 = round(testimage_prob_sorted_values[0], 2)\n",
    "\n",
    "    prob_key_2 = testimage_prob_sorted_keys[1]\n",
    "    prob_value_2 = round(testimage_prob_sorted_values[1], 2)\n",
    "\n",
    "    # OpenCV\n",
    "\n",
    "    # Image\n",
    "    img = cv2.imread(loadimage)\n",
    "    imres = cv2.resize(img, (768, 768))\n",
    "\n",
    "    # Write some Text\n",
    "    font                   = cv2.FONT_HERSHEY_SIMPLEX\n",
    "    fontScale              = 0.6\n",
    "    lineType               = 1\n",
    "\n",
    "    def fontColor():\n",
    "        if true_label == test_image:\n",
    "            fontColor  = (0, 255, 0)\n",
    "        else:\n",
    "            fontColor  = (0, 0, 255)\n",
    "        return fontColor\n",
    "\n",
    "    fontColor = fontColor()\n",
    "\n",
    "    true_label_text_pos = (10,30)\n",
    "    predicted_label_text_pos = (10,60)\n",
    "    predicted_proba_text_pos_1 = (10,90)\n",
    "    predicted_proba_text_pos_2 = (10,120)\n",
    "\n",
    "\n",
    "    cv2.putText(img,'True Label : ' + true_label, \n",
    "        true_label_text_pos, \n",
    "        font, \n",
    "        fontScale,\n",
    "        fontColor,\n",
    "        lineType)\n",
    "\n",
    "    cv2.putText(img,'Predicted Label : ', \n",
    "        predicted_label_text_pos, \n",
    "        font, \n",
    "        fontScale,\n",
    "        fontColor,\n",
    "        lineType)\n",
    "\n",
    "    cv2.putText(img,prob_key_1 + \" - \" + str(prob_value_1) + '%', \n",
    "        predicted_proba_text_pos_1, \n",
    "        font, \n",
    "        fontScale,\n",
    "        fontColor,\n",
    "        lineType)\n",
    "\n",
    "    cv2.putText(img,prob_key_2 + \" - \" + str(prob_value_2) + '%', \n",
    "        predicted_proba_text_pos_2, \n",
    "        font, \n",
    "        fontScale,\n",
    "        fontColor,\n",
    "        lineType)\n",
    "\n",
    "    #Display the image\n",
    "    cv2.imshow(\"Lung Diseases Classifier\",img)\n",
    "    cv2.waitKey(0)\n",
    "    cv2.destroyAllWindows()"
   ]
  },
  {
   "cell_type": "markdown",
   "metadata": {},
   "source": [
    "Grad-CAM"
   ]
  },
  {
   "cell_type": "code",
   "execution_count": 32,
   "metadata": {},
   "outputs": [
    {
     "name": "stdout",
     "output_type": "stream",
     "text": [
      "No Finding\n",
      "<gradcam.gradcam.gradcam.GradCAM object at 0x0000021D74E56AC8>\n"
     ]
    }
   ],
   "source": [
    "for x in range(1):\n",
    "    \n",
    "    # select random image from directory\n",
    "    No_Finding = random.choice(os.listdir(r\"dataset\\testing_set\\No Finding\"))\n",
    "    Effusion = random.choice(os.listdir(r\"dataset\\testing_set\\Effusion\"))\n",
    "    image_path = random.choice([No_Finding, Effusion])\n",
    "\n",
    "    # path of image file\n",
    "    for root, dirs, files in os.walk(r'C:\\Users\\ahmad\\Documents\\Python Scripts\\project_5\\test_2'):\n",
    "        for name in files:\n",
    "            if name == image_path:\n",
    "                image_path = os.path.abspath(os.path.join(root, name))\n",
    "     \n",
    "    im = Image.open(image_path)\n",
    "    width, height = im.size\n",
    "\n",
    "    loadimage = image_path\n",
    "    img = load_img(loadimage, target_size = (224, 224))\n",
    "    img = img_to_array(img).astype('float32')*1/255\n",
    "    img = np.expand_dims(img,axis=0)\n",
    "    \n",
    "    preds = model.predict(img)\n",
    "    i = np.argmax(preds[0])\n",
    "    if i == 0:\n",
    "        label = 'Effusion'\n",
    "    else:\n",
    "        label = 'No Finding'\n",
    "    print(label)\n",
    "    \n",
    "    cam = GradCAM(model, i)\n",
    "    heatmap = cam.compute_heatmap(img)\n",
    "    \n",
    "    print(cam)"
   ]
  },
  {
   "cell_type": "markdown",
   "metadata": {},
   "source": [
    "OpenCV & Grad-CAM"
   ]
  },
  {
   "cell_type": "code",
   "execution_count": 33,
   "metadata": {},
   "outputs": [],
   "source": [
    "# # load model\n",
    "# from tensorflow.keras.models import load_model\n",
    "# model = load_model(r'test/vgg19gap_checkpoint.h5')"
   ]
  },
  {
   "cell_type": "code",
   "execution_count": 69,
   "metadata": {},
   "outputs": [],
   "source": [
    "for x in range(1):\n",
    "    \n",
    "    # select random image from directory\n",
    "    No_Finding = random.choice(os.listdir(r\"dataset\\test_set\\No Finding\"))\n",
    "    Effusion = random.choice(os.listdir(r\"dataset\\test_set\\Effusion\"))\n",
    "    image_path = random.choice([Effusion, No_Finding])\n",
    "\n",
    "    # path of image file\n",
    "    for root, dirs, files in os.walk(r'C:\\Users\\ahmad\\Documents\\Python Scripts\\project_5\\test_3'):\n",
    "        for name in files:\n",
    "            if name == image_path:\n",
    "                image_path = os.path.abspath(os.path.join(root, name))\n",
    "                #image_path = r\"C:\\Users\\ahmad\\Documents\\Python Scripts\\project_5\\test_3\\dataset\\test_set\\Effusion\\E (%d).png\" % number\n",
    "                #image_path = r'D:\\Data\\Downloads\\thumbnail.png'\n",
    "    \n",
    "    # store image res\n",
    "    im = Image.open(image_path)\n",
    "    width, height = im.size\n",
    "    \n",
    "    # load image data\n",
    "    loadimage = image_path\n",
    "\n",
    "    # true label of the image\n",
    "    true_label = os.path.split(os.path.dirname(loadimage))[-1]\n",
    "    \n",
    "    # function, make and sort prediction\n",
    "    def testimage():\n",
    "        global loadimage\n",
    "        test_image = image.load_img(loadimage, target_size = (224, 224))\n",
    "        test_image = image.img_to_array(test_image).astype('float32')*1/255\n",
    "        test_image_expand = np.expand_dims(test_image,axis=0)\n",
    "        test_image = model.predict(test_image_expand)\n",
    "        \n",
    "        test_image_probs = {test_image[0][0] * 100 : \"Effusion\" ,\n",
    "                            test_image[0][1] * 100 : \"No Finding\"}\n",
    "        \n",
    "        test_image_probs = {v: k for k, v in sorted(test_image_probs.items(), reverse=True)}\n",
    "        \n",
    "        if test_image[0][0] > test_image[0][1]:\n",
    "            test_image_label = 'Effusion'\n",
    "        else:\n",
    "            test_image_label = 'No Finding'\n",
    "        \n",
    "        return test_image, test_image_probs, test_image_expand, test_image_label\n",
    "    \n",
    "    test_image_return = testimage()\n",
    "    \n",
    "    test_image_extract = test_image_return[1]\n",
    "    \n",
    "    # extract every single key and value on testimage_prob_sorted dictionary to its own variable\n",
    "    testimage_prob_sorted_keys = list(test_image_extract.keys())\n",
    "    testimage_prob_sorted_values = list(test_image_extract.values())\n",
    "\n",
    "    prob_key_1 = testimage_prob_sorted_keys[0]\n",
    "    prob_value_1 = round(testimage_prob_sorted_values[0], 2)\n",
    "\n",
    "    prob_key_2 = testimage_prob_sorted_keys[1]\n",
    "    prob_value_2 = round(testimage_prob_sorted_values[1], 2)\n",
    "    \n",
    "    # grad-cam\n",
    "    test_image_gradcam = test_image_return[0]\n",
    "    \n",
    "    i = np.argmax(test_image_gradcam[0])\n",
    "    \n",
    "    test_image_expand = test_image_return[2]\n",
    "    \n",
    "    cam = GradCAM(model, i)\n",
    "    \n",
    "    def gradcam():\n",
    "        global i\n",
    "        global test_image_expand\n",
    "        global cam\n",
    "        heatmap = cam.compute_heatmap(test_image_expand)\n",
    "        return heatmap\n",
    "\n",
    "    gradcam = gradcam()\n",
    "    \n",
    "    orig = cv2.imread(loadimage)\n",
    "    heatmap = cv2.resize(gradcam, (width, height))\n",
    "    (heatmap, output) = cam.overlay_heatmap(heatmap, orig, alpha=0.6)\n",
    "    \n",
    "\n",
    "        \n",
    "    background = orig\n",
    "    overlay = heatmap\n",
    "    heatbox = cv2.addWeighted(background, 0.9, overlay, 0.4, 0)\n",
    "    \n",
    "    heatbox = cv2.resize(heatbox, (1024, 1024))\n",
    "    heatmap = cv2.resize(heatmap, (1024, 1024))\n",
    "    orig = cv2.resize(orig, (1024, 1024))\n",
    "    \n",
    "    output = np.hstack([orig, heatbox])\n",
    "    output = imutils.resize(output, height=500)\n",
    "    \n",
    "    # OpenCV\n",
    "    \n",
    "    test_image_label = test_image_return[3]\n",
    "    \n",
    "    # Write some Text\n",
    "    font                   = cv2.FONT_HERSHEY_SIMPLEX\n",
    "    fontScale              = 1\n",
    "    lineType               = 2\n",
    "\n",
    "    def fontColor():\n",
    "        if true_label == test_image_label:\n",
    "            fontColor  = (0, 255, 0)\n",
    "        else:\n",
    "            fontColor  = (0, 0, 255)\n",
    "        return fontColor\n",
    "\n",
    "    fontColor = fontColor()\n",
    "\n",
    "    if true_label == 'No Finding':\n",
    "        true_label = 'No Finding (IGNORE HEATMAP)'\n",
    "    else:\n",
    "        true_label = true_label\n",
    "    \n",
    "    true_label_text_pos = (10,30)\n",
    "    predicted_label_text_pos = (10,60)\n",
    "    predicted_proba_text_pos_1 = (10,90)\n",
    "    predicted_proba_text_pos_2 = (10,120)\n",
    "    # get file name\n",
    "    file_name = os.path.basename(image_path)\n",
    "    file_name_pos = (10,150)\n",
    "\n",
    "\n",
    "    cv2.putText(output,'True Label : ' + true_label, \n",
    "        true_label_text_pos, \n",
    "        font, \n",
    "        fontScale,\n",
    "        fontColor,\n",
    "        lineType)\n",
    "\n",
    "    cv2.putText(output,'Predicted Label : ', \n",
    "        predicted_label_text_pos, \n",
    "        font, \n",
    "        fontScale,\n",
    "        fontColor,\n",
    "        lineType)\n",
    "\n",
    "    cv2.putText(output,prob_key_1 + \" - \" + str(prob_value_1) + '%', \n",
    "        predicted_proba_text_pos_1, \n",
    "        font, \n",
    "        fontScale,\n",
    "        fontColor,\n",
    "        lineType)\n",
    "\n",
    "    cv2.putText(output,prob_key_2 + \" - \" + str(prob_value_2) + '%', \n",
    "        predicted_proba_text_pos_2, \n",
    "        font, \n",
    "        fontScale,\n",
    "        fontColor,\n",
    "        lineType)\n",
    "    \n",
    "    \n",
    "    cv2.putText(output,'File Name : ' + file_name, \n",
    "        file_name_pos,       \n",
    "        font, \n",
    "        fontScale,\n",
    "        fontColor,\n",
    "        lineType)\n",
    "    \n",
    "    cv2.imshow(\"Output\", output)\n",
    "    #cv2.imwrite(r\"C:\\Users\\ahmad\\Documents\\Python Scripts\\project_5\\test_3\\graphs\\heat.png\", output)\n",
    "    cv2.waitKey(0)\n",
    "    cv2.destroyAllWindows()"
   ]
  },
  {
   "cell_type": "code",
   "execution_count": 44,
   "metadata": {},
   "outputs": [],
   "source": [
    "number = 69"
   ]
  },
  {
   "cell_type": "markdown",
   "metadata": {},
   "source": [
    "Detection with Bounding Box (Imperfect)"
   ]
  },
  {
   "cell_type": "code",
   "execution_count": 58,
   "metadata": {},
   "outputs": [],
   "source": [
    "for x in range(1):\n",
    "    \n",
    "    # select random image from directory\n",
    "    No_Finding = random.choice(os.listdir(r\"dataset\\test_set\\Normal\"))\n",
    "    Effusion = random.choice(os.listdir(r\"dataset\\test_set\\Pleural Effusion\"))\n",
    "    image_path = random.choice([No_Finding, Effusion])\n",
    "\n",
    "    # path of image file\n",
    "    for root, dirs, files in os.walk(r'C:\\Users\\ahmad\\Documents\\Python Scripts\\project_5\\test_7'):\n",
    "        for name in files:\n",
    "            if name == image_path:\n",
    "                image_path = os.path.abspath(os.path.join(root, name))\n",
    "                #image_path = r\"D:\\Data\\Downloads\\Thesis\\Data\\Data\\Effusion\\%d.png\" % number\n",
    "                #image_path = r\"D:\\Data\\Downloads\\Pleural Effusion\\Normal\\00010860_000.png\"\n",
    "    \n",
    "    # store image res\n",
    "    im = Image.open(image_path)\n",
    "    width, height = im.size\n",
    "    \n",
    "    # load image data\n",
    "    loadimage = image_path\n",
    "\n",
    "    # true label of the image\n",
    "    true_label = os.path.split(os.path.dirname(loadimage))[-1]\n",
    "    \n",
    "    # function, make and sort prediction\n",
    "    def testimage():\n",
    "        global loadimage\n",
    "        test_image = image.load_img(loadimage, target_size = (224, 224))\n",
    "        test_image = image.img_to_array(test_image).astype('float32')*1/255\n",
    "        test_image_expand = np.expand_dims(test_image,axis=0)\n",
    "        test_image = model.predict(test_image_expand)\n",
    "        \n",
    "        test_image_probs = {test_image[0][0] * 100 : \"Pleural Effusion\" ,\n",
    "                            test_image[0][1] * 100 : \"Normal\"}\n",
    "        \n",
    "        test_image_probs = {v: k for k, v in sorted(test_image_probs.items(), reverse=True)}\n",
    "        \n",
    "        if test_image[0][0] > test_image[0][1]:\n",
    "            test_image_label = 'Pleural Effusion'\n",
    "        else:\n",
    "            test_image_label = 'Normal'\n",
    "        \n",
    "        return test_image, test_image_probs, test_image_expand, test_image_label\n",
    "    \n",
    "    test_image_return = testimage()\n",
    "    \n",
    "    test_image_extract = test_image_return[1]\n",
    "    \n",
    "    # extract every single key and value on testimage_prob_sorted dictionary to its own variable\n",
    "    testimage_prob_sorted_keys = list(test_image_extract.keys())\n",
    "    testimage_prob_sorted_values = list(test_image_extract.values())\n",
    "\n",
    "    prob_key_1 = testimage_prob_sorted_keys[0]\n",
    "    prob_value_1 = round(testimage_prob_sorted_values[0], 2)\n",
    "\n",
    "    prob_key_2 = testimage_prob_sorted_keys[1]\n",
    "    prob_value_2 = round(testimage_prob_sorted_values[1], 2)\n",
    "    \n",
    "    # grad-cam\n",
    "    test_image_gradcam = test_image_return[0]\n",
    "    \n",
    "    i = np.argmax(test_image_gradcam[0])\n",
    "    \n",
    "    test_image_expand = test_image_return[2]\n",
    "    \n",
    "    cam = GradCAM(model, i)\n",
    "    \n",
    "    def gradcam():\n",
    "        global i\n",
    "        global test_image_expand\n",
    "        global cam\n",
    "        heatmap = cam.compute_heatmap(test_image_expand)\n",
    "        return heatmap\n",
    "\n",
    "    gradcam = gradcam()\n",
    "\n",
    "    orig = cv2.imread(loadimage)\n",
    "    heatmap = cv2.resize(gradcam, (width, height))\n",
    "    (heatmap, output) = cam.overlay_heatmap(heatmap, orig, alpha=0.6)\n",
    "        \n",
    "    background = orig\n",
    "    overlay = heatmap\n",
    "    heatbox = cv2.addWeighted(background, 0.7, overlay, 0.6, 0)\n",
    "    \n",
    "    heatbox = cv2.resize(heatbox, (1024, 1024))\n",
    "    heatmap = cv2.resize(heatmap, (1024, 1024))\n",
    "    orig = cv2.resize(orig, (1024, 1024))\n",
    "    \n",
    "    output = np.hstack([orig, heatmap, heatbox])\n",
    "    output = imutils.resize(output, height=500)\n",
    "    \n",
    "    # bounding box\n",
    "    gray = cv2.cvtColor(heatmap, cv2.COLOR_BGR2GRAY)\n",
    "    thresh = cv2.threshold(gray, 0, 255, cv2.THRESH_BINARY + cv2.THRESH_OTSU)[1]\n",
    "    contours = cv2.findContours(thresh, cv2.RETR_CCOMP, cv2.CHAIN_APPROX_SIMPLE)[1]\n",
    "    \n",
    "    try:\n",
    "        contours = [contours[1], contours[2], contours[3]]\n",
    "        for c in contours[0]:\n",
    "            x,y,w,h = cv2.boundingRect(contours[0])\n",
    "            cv2.rectangle(orig, (x, y), (x + w, y + h), (0,255,0), 1)\n",
    "        for c in contours[1]:\n",
    "            x,y,w,h = cv2.boundingRect(contours[1])\n",
    "            cv2.rectangle(orig, (x, y), (x + w, y + h), (0,255,0), 1)\n",
    "        for c in contours[2]:\n",
    "            x,y,w,h = cv2.boundingRect(contours[1])\n",
    "            cv2.rectangle(orig, (x, y), (x + w, y + h), (0,255,0), 1)\n",
    "    except:\n",
    "        pass\n",
    "    \n",
    "    try:\n",
    "        contours = [contours[1], contours[2]]\n",
    "        for c in contours[0]:\n",
    "            x,y,w,h = cv2.boundingRect(contours[0])\n",
    "            cv2.rectangle(orig, (x, y), (x + w, y + h), (0,255,0), 2)\n",
    "        for c in contours[1]:\n",
    "            x,y,w,h = cv2.boundingRect(contours[1])\n",
    "            cv2.rectangle(orig, (x, y), (x + w, y + h), (0,255,0), 2)    \n",
    "    except:\n",
    "        pass\n",
    "    \n",
    "    try:\n",
    "        contours = contours[1]\n",
    "        for c in contours:\n",
    "            x,y,w,h = cv2.boundingRect(contours)\n",
    "            cv2.rectangle(orig, (x, y), (x + w, y + h), (0,255,0), 2)\n",
    "    except:\n",
    "        pass\n",
    "\n",
    "    contours = contours[0]\n",
    "    for c in contours:\n",
    "        x,y,w,h = cv2.boundingRect(contours)\n",
    "        cv2.rectangle(orig, (x, y), (x + w, y + h), (0,255,0), 2)\n",
    "        \n",
    "    background = orig\n",
    "    overlay = heatmap\n",
    "    heatbox = cv2.addWeighted(background, 0.6, overlay, 0.6, 0)\n",
    "    output = np.hstack([orig, heatbox])\n",
    "    output = imutils.resize(output, height=500)\n",
    "    \n",
    "    # OpenCV\n",
    "    \n",
    "    test_image_label = test_image_return[3]\n",
    "    \n",
    "    # Write some Text\n",
    "    font                   = cv2.FONT_HERSHEY_SIMPLEX\n",
    "    fontScale              = 1\n",
    "    lineType               = 2\n",
    "\n",
    "    def fontColor():\n",
    "        if true_label == test_image_label:\n",
    "            fontColor  = (0, 255, 0)\n",
    "        else:\n",
    "            fontColor  = (0, 0, 255)\n",
    "        return fontColor\n",
    "\n",
    "    fontColor = fontColor()\n",
    "\n",
    "    if true_label == 'No Finding':\n",
    "        true_label = 'No Finding (IGNORE HEATMAP)'\n",
    "    else:\n",
    "        true_label = true_label\n",
    "    \n",
    "    true_label_text_pos = (10,30)\n",
    "    predicted_label_text_pos = (10,60)\n",
    "    predicted_proba_text_pos_1 = (10,90)\n",
    "    predicted_proba_text_pos_2 = (10,120)\n",
    "    # get file name\n",
    "    file_name = os.path.basename(image_path)\n",
    "    file_name_pos = (10,150)\n",
    "\n",
    "\n",
    "    cv2.putText(output,'True Label : ' + true_label, \n",
    "        true_label_text_pos, \n",
    "        font, \n",
    "        fontScale,\n",
    "        fontColor,\n",
    "        lineType)\n",
    "\n",
    "    cv2.putText(output,'Predicted Label : ', \n",
    "        predicted_label_text_pos, \n",
    "        font, \n",
    "        fontScale,\n",
    "        fontColor,\n",
    "        lineType)\n",
    "\n",
    "    cv2.putText(output,prob_key_1 + \" - \" + str(prob_value_1) + '%', \n",
    "        predicted_proba_text_pos_1, \n",
    "        font, \n",
    "        fontScale,\n",
    "        fontColor,\n",
    "        lineType)\n",
    "\n",
    "    cv2.putText(output,prob_key_2 + \" - \" + str(prob_value_2) + '%', \n",
    "        predicted_proba_text_pos_2, \n",
    "        font, \n",
    "        fontScale,\n",
    "        fontColor,\n",
    "        lineType)\n",
    "    \n",
    "    cv2.putText(output,'File Name : ' + file_name, \n",
    "        file_name_pos,       \n",
    "        font, \n",
    "        fontScale,\n",
    "        fontColor,\n",
    "        lineType)\n",
    "    \n",
    "    \n",
    "    \n",
    "    \n",
    "    cv2.imshow(\"Output\", output)\n",
    "    #cv2.imwrite(r\"C:\\Users\\ahmad\\Documents\\Python Scripts\\project_5\\test_3\\graphs\\heat.png\", output)\n",
    "    cv2.waitKey(0)\n",
    "    cv2.destroyAllWindows()"
   ]
  },
  {
   "cell_type": "markdown",
   "metadata": {},
   "source": [
    "# Test"
   ]
  },
  {
   "cell_type": "code",
   "execution_count": 44,
   "metadata": {},
   "outputs": [],
   "source": [
    "from PIL import Image\n",
    "import numpy as np\n",
    "import io"
   ]
  },
  {
   "cell_type": "code",
   "execution_count": 21,
   "metadata": {
    "scrolled": true
   },
   "outputs": [
    {
     "name": "stdout",
     "output_type": "stream",
     "text": [
      "(1024, 1024, 3)\n"
     ]
    }
   ],
   "source": [
    "raw_data = heatmap\n",
    "raw_data_2 = cv2.imread(r'C:\\Users\\ahmad\\Documents\\Python Scripts\\web\\test_2\\00000491_018.png')\n",
    "print(np.shape(heatmap))\n",
    "\n",
    "cv2.imshow(\"Output\", raw_data)\n",
    "cv2.waitKey(0)\n",
    "cv2.destroyAllWindows()"
   ]
  },
  {
   "cell_type": "code",
   "execution_count": null,
   "metadata": {},
   "outputs": [],
   "source": [
    "from flask import Flask, send_file\n",
    "from PIL import Image\n",
    "import numpy as np\n",
    "import io\n",
    "\n",
    "app = Flask(__name__)\n",
    "\n",
    "raw_data = [\n",
    "    [[255,255,255],[0,0,0],[255,255,255]],\n",
    "    [[0,0,1],[255,255,255],[0,0,0]],\n",
    "    [[255,255,255],[0,0,0],[255,255,255]],\n",
    "]\n",
    "\n",
    "@app.route('/image.png')\n",
    "def image():\n",
    "    # my numpy array \n",
    "    arr = np.array(raw_data)\n",
    "\n",
    "    # convert numpy array to PIL Image\n",
    "    img = Image.fromarray(arr.astype('uint8'))\n",
    "\n",
    "    # create file-object in memory\n",
    "    file_object = io.BytesIO()\n",
    "\n",
    "    # write PNG in file-object\n",
    "    img.save(file_object, 'PNG')\n",
    "\n",
    "    # move to beginning of file so `send_file()` it will read from start    \n",
    "    file_object.seek(0)\n",
    "\n",
    "    return send_file(file_object, mimetype='image/PNG')\n",
    "\n",
    "\n",
    "app.run()"
   ]
  },
  {
   "cell_type": "markdown",
   "metadata": {},
   "source": [
    "IGNORE THESE"
   ]
  },
  {
   "cell_type": "code",
   "execution_count": 3,
   "metadata": {},
   "outputs": [
    {
     "ename": "NameError",
     "evalue": "name 'heatmap' is not defined",
     "output_type": "error",
     "traceback": [
      "\u001b[1;31m---------------------------------------------------------------------------\u001b[0m",
      "\u001b[1;31mNameError\u001b[0m                                 Traceback (most recent call last)",
      "\u001b[1;32m<ipython-input-3-248acba8196f>\u001b[0m in \u001b[0;36m<module>\u001b[1;34m\u001b[0m\n\u001b[0;32m      1\u001b[0m \u001b[1;31m# bounding box\u001b[0m\u001b[1;33m\u001b[0m\u001b[1;33m\u001b[0m\u001b[1;33m\u001b[0m\u001b[0m\n\u001b[1;32m----> 2\u001b[1;33m \u001b[0mgray\u001b[0m \u001b[1;33m=\u001b[0m \u001b[0mcv2\u001b[0m\u001b[1;33m.\u001b[0m\u001b[0mcvtColor\u001b[0m\u001b[1;33m(\u001b[0m\u001b[0mheatmap\u001b[0m\u001b[1;33m,\u001b[0m \u001b[0mcv2\u001b[0m\u001b[1;33m.\u001b[0m\u001b[0mCOLOR_BGR2GRAY\u001b[0m\u001b[1;33m)\u001b[0m\u001b[1;33m\u001b[0m\u001b[1;33m\u001b[0m\u001b[0m\n\u001b[0m\u001b[0;32m      3\u001b[0m \u001b[0mthresh\u001b[0m \u001b[1;33m=\u001b[0m \u001b[0mcv2\u001b[0m\u001b[1;33m.\u001b[0m\u001b[0mthreshold\u001b[0m\u001b[1;33m(\u001b[0m\u001b[0mgray\u001b[0m\u001b[1;33m,\u001b[0m \u001b[1;36m0\u001b[0m\u001b[1;33m,\u001b[0m \u001b[1;36m255\u001b[0m\u001b[1;33m,\u001b[0m \u001b[0mcv2\u001b[0m\u001b[1;33m.\u001b[0m\u001b[0mTHRESH_BINARY\u001b[0m \u001b[1;33m+\u001b[0m \u001b[0mcv2\u001b[0m\u001b[1;33m.\u001b[0m\u001b[0mTHRESH_OTSU\u001b[0m\u001b[1;33m)\u001b[0m\u001b[1;33m[\u001b[0m\u001b[1;36m1\u001b[0m\u001b[1;33m]\u001b[0m\u001b[1;33m\u001b[0m\u001b[1;33m\u001b[0m\u001b[0m\n\u001b[0;32m      4\u001b[0m \u001b[0mcontours\u001b[0m \u001b[1;33m=\u001b[0m \u001b[0mcv2\u001b[0m\u001b[1;33m.\u001b[0m\u001b[0mfindContours\u001b[0m\u001b[1;33m(\u001b[0m\u001b[0mthresh\u001b[0m\u001b[1;33m,\u001b[0m \u001b[0mcv2\u001b[0m\u001b[1;33m.\u001b[0m\u001b[0mRETR_CCOMP\u001b[0m\u001b[1;33m,\u001b[0m \u001b[0mcv2\u001b[0m\u001b[1;33m.\u001b[0m\u001b[0mCHAIN_APPROX_SIMPLE\u001b[0m\u001b[1;33m)\u001b[0m\u001b[1;33m[\u001b[0m\u001b[1;36m1\u001b[0m\u001b[1;33m]\u001b[0m\u001b[1;33m\u001b[0m\u001b[1;33m\u001b[0m\u001b[0m\n\u001b[0;32m      5\u001b[0m \u001b[1;33m\u001b[0m\u001b[0m\n",
      "\u001b[1;31mNameError\u001b[0m: name 'heatmap' is not defined"
     ]
    }
   ],
   "source": [
    "\n",
    "    # bounding box\n",
    "    gray = cv2.cvtColor(heatmap, cv2.COLOR_BGR2GRAY)\n",
    "    thresh = cv2.threshold(gray, 0, 255, cv2.THRESH_BINARY + cv2.THRESH_OTSU)[1]\n",
    "    contours = cv2.findContours(thresh, cv2.RETR_CCOMP, cv2.CHAIN_APPROX_SIMPLE)[1]\n",
    "    \n",
    "    try:\n",
    "        contours = [contours[1], contours[2], contours[3]]\n",
    "        for c in contours[0]:\n",
    "            x,y,w,h = cv2.boundingRect(contours[0])\n",
    "            cv2.rectangle(orig, (x, y), (x + w, y + h), (0,255,0), 1)\n",
    "        for c in contours[1]:\n",
    "            x,y,w,h = cv2.boundingRect(contours[1])\n",
    "            cv2.rectangle(orig, (x, y), (x + w, y + h), (0,255,0), 1)\n",
    "        for c in contours[2]:\n",
    "            x,y,w,h = cv2.boundingRect(contours[1])\n",
    "            cv2.rectangle(orig, (x, y), (x + w, y + h), (0,255,0), 1)\n",
    "    except:\n",
    "        pass\n",
    "    \n",
    "    try:\n",
    "        contours = [contours[1], contours[2]]\n",
    "        for c in contours[0]:\n",
    "            x,y,w,h = cv2.boundingRect(contours[0])\n",
    "            cv2.rectangle(orig, (x, y), (x + w, y + h), (0,255,0), 2)\n",
    "        for c in contours[1]:\n",
    "            x,y,w,h = cv2.boundingRect(contours[1])\n",
    "            cv2.rectangle(orig, (x, y), (x + w, y + h), (0,255,0), 2)    \n",
    "    except:\n",
    "        pass\n",
    "    \n",
    "    try:\n",
    "        contours = contours[1]\n",
    "        for c in contours:\n",
    "            x,y,w,h = cv2.boundingRect(contours)\n",
    "            cv2.rectangle(orig, (x, y), (x + w, y + h), (0,255,0), 2)\n",
    "    except:\n",
    "        pass\n",
    "\n",
    "    contours = contours[0]\n",
    "    for c in contours:\n",
    "        x,y,w,h = cv2.boundingRect(contours)\n",
    "        cv2.rectangle(orig, (x, y), (x + w, y + h), (0,255,0), 2)\n",
    "        \n",
    "    background = orig\n",
    "    overlay = heatmap\n",
    "    heatbox = cv2.addWeighted(background, 0.9, overlay, 0.4, 0)\n",
    "    output = np.hstack([heatmap, heatbox, orig])\n",
    "    output = imutils.resize(output, height=500)"
   ]
  },
  {
   "cell_type": "code",
   "execution_count": 132,
   "metadata": {},
   "outputs": [
    {
     "data": {
      "text/plain": [
       "2"
      ]
     },
     "execution_count": 132,
     "metadata": {},
     "output_type": "execute_result"
    }
   ],
   "source": [
    "gray = cv2.cvtColor(heatmap, cv2.COLOR_BGR2GRAY)\n",
    "thresh = cv2.threshold(gray, 127, 255, cv2.THRESH_TOZERO + cv2.THRESH_OTSU)[1]\n",
    "contours = cv2.findContours(thresh, cv2.RETR_LIST, cv2.CHAIN_APPROX_NONE)[1]\n",
    "len(contours)\n",
    "cv2.drawContours(heatmap, contours, -1, (0, 0,255), 2)\n",
    "cv2.imshow('image', thresh)\n",
    "cv2.waitKey(0)\n",
    "cv2.destroyAllWindows()"
   ]
  },
  {
   "cell_type": "code",
   "execution_count": 34,
   "metadata": {},
   "outputs": [],
   "source": [
    "image = heatmap\n",
    "gray = cv2.cvtColor(image, cv2.COLOR_BGR2GRAY)\n",
    "thresh = cv2.threshold(gray, 0, 255, cv2.THRESH_BINARY + cv2.THRESH_OTSU)[1]\n",
    "contours = cv2.findContours(thresh, cv2.RETR_TREE, cv2.CHAIN_APPROX_SIMPLE)[1]\n",
    "if len(contours) > 1:\n",
    "    contours = contours[0]\n",
    "else:\n",
    "    contours = contours[2]\n",
    "for c in contours:\n",
    "    x,y,w,h = cv2.boundingRect(contours)\n",
    "    cv2.rectangle(image, (x, y), (x + w, y + h), (0,255,0), 2)\n",
    "cv2.imshow('image', image)\n",
    "cv2.waitKey(0)\n",
    "cv2.destroyAllWindows()"
   ]
  }
 ],
 "metadata": {
  "kernelspec": {
   "display_name": "Python 3",
   "language": "python",
   "name": "python3"
  },
  "language_info": {
   "codemirror_mode": {
    "name": "ipython",
    "version": 3
   },
   "file_extension": ".py",
   "mimetype": "text/x-python",
   "name": "python",
   "nbconvert_exporter": "python",
   "pygments_lexer": "ipython3",
   "version": "3.7.6"
  }
 },
 "nbformat": 4,
 "nbformat_minor": 4
}
