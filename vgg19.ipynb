{
 "cells": [
  {
   "cell_type": "markdown",
   "metadata": {},
   "source": [
    "Pleural Effusion Classifier"
   ]
  },
  {
   "cell_type": "code",
   "execution_count": 1,
   "metadata": {},
   "outputs": [],
   "source": [
    "from tensorflow.keras.models import Model, Sequential\n",
    "from tensorflow.keras.layers import Dense, Flatten, GlobalAveragePooling2D\n",
    "from tensorflow.keras.optimizers import Adam\n",
    "from tensorflow.keras.preprocessing.image import ImageDataGenerator\n",
    "from tensorflow.keras.callbacks import ModelCheckpoint, ReduceLROnPlateau\n",
    "import matplotlib.pyplot as plt"
   ]
  },
  {
   "cell_type": "code",
   "execution_count": 2,
   "metadata": {},
   "outputs": [],
   "source": [
    "train_path = r'dataset\\training_set'\n",
    "val_path = r'dataset\\validation_set'\n",
    "adam = Adam(\n",
    "    lr=0.0001\n",
    "    , beta_1=0.9\n",
    "    , beta_2=0.999\n",
    "    , epsilon=1e-8\n",
    "    #, decay=1e-1\n",
    "    )\n",
    "image_size = [224, 224]\n",
    "batch_size = 16\n",
    "epochs = 100\n",
    "#reduce_lr = ReduceLROnPlateau(monitor = 'val_loss', factor = 0.1, patience = 3, verbose = 1, min_delta =0.0001)\n",
    "checkpoint = ModelCheckpoint(r'checkpoint\\vgg19gap_checkpoint.h5', monitor = 'val_loss', mode = 'min', save_best_only = True, verbose = 1)\n",
    "callbacks = [checkpoint]"
   ]
  },
  {
   "source": [
    "The Model"
   ],
   "cell_type": "markdown",
   "metadata": {}
  },
  {
   "cell_type": "code",
   "execution_count": 3,
   "metadata": {},
   "outputs": [],
   "source": [
    "from tensorflow.keras.applications.vgg19 import VGG19\n",
    "vgg19 = VGG19(include_top=False, weights='imagenet', input_shape=image_size + [3])\n",
    "transmod = vgg19"
   ]
  },
  {
   "cell_type": "code",
   "execution_count": 4,
   "metadata": {
    "tags": []
   },
   "outputs": [
    {
     "output_type": "stream",
     "name": "stdout",
     "text": [
      "Model: \"vgg19\"\n_________________________________________________________________\nLayer (type)                 Output Shape              Param #   \n=================================================================\ninput_1 (InputLayer)         [(None, 224, 224, 3)]     0         \n_________________________________________________________________\nblock1_conv1 (Conv2D)        (None, 224, 224, 64)      1792      \n_________________________________________________________________\nblock1_conv2 (Conv2D)        (None, 224, 224, 64)      36928     \n_________________________________________________________________\nblock1_pool (MaxPooling2D)   (None, 112, 112, 64)      0         \n_________________________________________________________________\nblock2_conv1 (Conv2D)        (None, 112, 112, 128)     73856     \n_________________________________________________________________\nblock2_conv2 (Conv2D)        (None, 112, 112, 128)     147584    \n_________________________________________________________________\nblock2_pool (MaxPooling2D)   (None, 56, 56, 128)       0         \n_________________________________________________________________\nblock3_conv1 (Conv2D)        (None, 56, 56, 256)       295168    \n_________________________________________________________________\nblock3_conv2 (Conv2D)        (None, 56, 56, 256)       590080    \n_________________________________________________________________\nblock3_conv3 (Conv2D)        (None, 56, 56, 256)       590080    \n_________________________________________________________________\nblock3_conv4 (Conv2D)        (None, 56, 56, 256)       590080    \n_________________________________________________________________\nblock3_pool (MaxPooling2D)   (None, 28, 28, 256)       0         \n_________________________________________________________________\nblock4_conv1 (Conv2D)        (None, 28, 28, 512)       1180160   \n_________________________________________________________________\nblock4_conv2 (Conv2D)        (None, 28, 28, 512)       2359808   \n_________________________________________________________________\nblock4_conv3 (Conv2D)        (None, 28, 28, 512)       2359808   \n_________________________________________________________________\nblock4_conv4 (Conv2D)        (None, 28, 28, 512)       2359808   \n_________________________________________________________________\nblock4_pool (MaxPooling2D)   (None, 14, 14, 512)       0         \n_________________________________________________________________\nblock5_conv1 (Conv2D)        (None, 14, 14, 512)       2359808   \n_________________________________________________________________\nblock5_conv2 (Conv2D)        (None, 14, 14, 512)       2359808   \n_________________________________________________________________\nblock5_conv3 (Conv2D)        (None, 14, 14, 512)       2359808   \n_________________________________________________________________\nblock5_conv4 (Conv2D)        (None, 14, 14, 512)       2359808   \n_________________________________________________________________\nblock5_pool (MaxPooling2D)   (None, 7, 7, 512)         0         \n=================================================================\nTotal params: 20,024,384\nTrainable params: 0\nNon-trainable params: 20,024,384\n_________________________________________________________________\n"
     ]
    }
   ],
   "source": [
    "for layer in transmod.layers:\n",
    "    layer.trainable = False\n",
    "transmod.summary()"
   ]
  },
  {
   "cell_type": "code",
   "execution_count": 5,
   "metadata": {},
   "outputs": [],
   "source": [
    "x = transmod.output\n",
    "x = GlobalAveragePooling2D()(x)\n",
    "x = Dense(1024, activation= 'relu')(x)\n",
    "x = Dense(1024, activation= 'relu')(x)\n",
    "prediction = Dense(2, activation = 'softmax')(x)\n",
    "\n",
    "model = Model(inputs=transmod.input, outputs=prediction)"
   ]
  },
  {
   "cell_type": "code",
   "execution_count": 6,
   "metadata": {
    "tags": []
   },
   "outputs": [
    {
     "output_type": "stream",
     "name": "stdout",
     "text": [
      "Model: \"model\"\n_________________________________________________________________\nLayer (type)                 Output Shape              Param #   \n=================================================================\ninput_1 (InputLayer)         [(None, 224, 224, 3)]     0         \n_________________________________________________________________\nblock1_conv1 (Conv2D)        (None, 224, 224, 64)      1792      \n_________________________________________________________________\nblock1_conv2 (Conv2D)        (None, 224, 224, 64)      36928     \n_________________________________________________________________\nblock1_pool (MaxPooling2D)   (None, 112, 112, 64)      0         \n_________________________________________________________________\nblock2_conv1 (Conv2D)        (None, 112, 112, 128)     73856     \n_________________________________________________________________\nblock2_conv2 (Conv2D)        (None, 112, 112, 128)     147584    \n_________________________________________________________________\nblock2_pool (MaxPooling2D)   (None, 56, 56, 128)       0         \n_________________________________________________________________\nblock3_conv1 (Conv2D)        (None, 56, 56, 256)       295168    \n_________________________________________________________________\nblock3_conv2 (Conv2D)        (None, 56, 56, 256)       590080    \n_________________________________________________________________\nblock3_conv3 (Conv2D)        (None, 56, 56, 256)       590080    \n_________________________________________________________________\nblock3_conv4 (Conv2D)        (None, 56, 56, 256)       590080    \n_________________________________________________________________\nblock3_pool (MaxPooling2D)   (None, 28, 28, 256)       0         \n_________________________________________________________________\nblock4_conv1 (Conv2D)        (None, 28, 28, 512)       1180160   \n_________________________________________________________________\nblock4_conv2 (Conv2D)        (None, 28, 28, 512)       2359808   \n_________________________________________________________________\nblock4_conv3 (Conv2D)        (None, 28, 28, 512)       2359808   \n_________________________________________________________________\nblock4_conv4 (Conv2D)        (None, 28, 28, 512)       2359808   \n_________________________________________________________________\nblock4_pool (MaxPooling2D)   (None, 14, 14, 512)       0         \n_________________________________________________________________\nblock5_conv1 (Conv2D)        (None, 14, 14, 512)       2359808   \n_________________________________________________________________\nblock5_conv2 (Conv2D)        (None, 14, 14, 512)       2359808   \n_________________________________________________________________\nblock5_conv3 (Conv2D)        (None, 14, 14, 512)       2359808   \n_________________________________________________________________\nblock5_conv4 (Conv2D)        (None, 14, 14, 512)       2359808   \n_________________________________________________________________\nblock5_pool (MaxPooling2D)   (None, 7, 7, 512)         0         \n_________________________________________________________________\nglobal_average_pooling2d (Gl (None, 512)               0         \n_________________________________________________________________\ndense (Dense)                (None, 1024)              525312    \n_________________________________________________________________\ndense_1 (Dense)              (None, 1024)              1049600   \n_________________________________________________________________\ndense_2 (Dense)              (None, 2)                 2050      \n=================================================================\nTotal params: 21,601,346\nTrainable params: 1,576,962\nNon-trainable params: 20,024,384\n_________________________________________________________________\n"
     ]
    }
   ],
   "source": [
    "model.summary()"
   ]
  },
  {
   "cell_type": "code",
   "execution_count": 7,
   "metadata": {
    "scrolled": true,
    "tags": []
   },
   "outputs": [
    {
     "output_type": "stream",
     "name": "stdout",
     "text": [
      "<tensorflow.python.keras.engine.input_layer.InputLayer object at 0x000002357F5C27C8>: False\n<tensorflow.python.keras.layers.convolutional.Conv2D object at 0x000002357F357F08>: False\n<tensorflow.python.keras.layers.convolutional.Conv2D object at 0x0000023575F6CBC8>: False\n<tensorflow.python.keras.layers.pooling.MaxPooling2D object at 0x000002357F5CA648>: False\n<tensorflow.python.keras.layers.convolutional.Conv2D object at 0x000002357F5CAF88>: False\n<tensorflow.python.keras.layers.convolutional.Conv2D object at 0x000002357F5C4AC8>: False\n<tensorflow.python.keras.layers.pooling.MaxPooling2D object at 0x000002357F5D0C08>: False\n<tensorflow.python.keras.layers.convolutional.Conv2D object at 0x000002357F5B2A88>: False\n<tensorflow.python.keras.layers.convolutional.Conv2D object at 0x000002357F5F3C48>: False\n<tensorflow.python.keras.layers.convolutional.Conv2D object at 0x000002350032D808>: False\n<tensorflow.python.keras.layers.convolutional.Conv2D object at 0x0000023500331D88>: False\n<tensorflow.python.keras.layers.pooling.MaxPooling2D object at 0x0000023500337E88>: False\n<tensorflow.python.keras.layers.convolutional.Conv2D object at 0x0000023500337E48>: False\n<tensorflow.python.keras.layers.convolutional.Conv2D object at 0x0000023500315AC8>: False\n<tensorflow.python.keras.layers.convolutional.Conv2D object at 0x000002350034AEC8>: False\n<tensorflow.python.keras.layers.convolutional.Conv2D object at 0x00000235003551C8>: False\n<tensorflow.python.keras.layers.pooling.MaxPooling2D object at 0x0000023500352748>: False\n<tensorflow.python.keras.layers.convolutional.Conv2D object at 0x000002350035A588>: False\n<tensorflow.python.keras.layers.convolutional.Conv2D object at 0x0000023500363B88>: False\n<tensorflow.python.keras.layers.convolutional.Conv2D object at 0x000002350036D748>: False\n<tensorflow.python.keras.layers.convolutional.Conv2D object at 0x000002350036EFC8>: False\n<tensorflow.python.keras.layers.pooling.MaxPooling2D object at 0x0000023500379E48>: False\n<tensorflow.python.keras.layers.pooling.GlobalAveragePooling2D object at 0x00000235003B0388>: True\n<tensorflow.python.keras.layers.core.Dense object at 0x000002357F5976C8>: True\n<tensorflow.python.keras.layers.core.Dense object at 0x000002357F55C288>: True\n<tensorflow.python.keras.layers.core.Dense object at 0x000002357F597548>: True\n"
     ]
    }
   ],
   "source": [
    "for layer in model.layers:\n",
    "    print(\"{}: {}\".format(layer, layer.trainable))"
   ]
  },
  {
   "cell_type": "code",
   "execution_count": 8,
   "metadata": {},
   "outputs": [],
   "source": [
    "for layer in model.layers[17:]:\n",
    "    layer.trainable = True"
   ]
  },
  {
   "cell_type": "code",
   "execution_count": 9,
   "metadata": {
    "scrolled": false,
    "tags": []
   },
   "outputs": [
    {
     "output_type": "stream",
     "name": "stdout",
     "text": [
      "<tensorflow.python.keras.engine.input_layer.InputLayer object at 0x000002357F5C27C8>: False\n<tensorflow.python.keras.layers.convolutional.Conv2D object at 0x000002357F357F08>: False\n<tensorflow.python.keras.layers.convolutional.Conv2D object at 0x0000023575F6CBC8>: False\n<tensorflow.python.keras.layers.pooling.MaxPooling2D object at 0x000002357F5CA648>: False\n<tensorflow.python.keras.layers.convolutional.Conv2D object at 0x000002357F5CAF88>: False\n<tensorflow.python.keras.layers.convolutional.Conv2D object at 0x000002357F5C4AC8>: False\n<tensorflow.python.keras.layers.pooling.MaxPooling2D object at 0x000002357F5D0C08>: False\n<tensorflow.python.keras.layers.convolutional.Conv2D object at 0x000002357F5B2A88>: False\n<tensorflow.python.keras.layers.convolutional.Conv2D object at 0x000002357F5F3C48>: False\n<tensorflow.python.keras.layers.convolutional.Conv2D object at 0x000002350032D808>: False\n<tensorflow.python.keras.layers.convolutional.Conv2D object at 0x0000023500331D88>: False\n<tensorflow.python.keras.layers.pooling.MaxPooling2D object at 0x0000023500337E88>: False\n<tensorflow.python.keras.layers.convolutional.Conv2D object at 0x0000023500337E48>: False\n<tensorflow.python.keras.layers.convolutional.Conv2D object at 0x0000023500315AC8>: False\n<tensorflow.python.keras.layers.convolutional.Conv2D object at 0x000002350034AEC8>: False\n<tensorflow.python.keras.layers.convolutional.Conv2D object at 0x00000235003551C8>: False\n<tensorflow.python.keras.layers.pooling.MaxPooling2D object at 0x0000023500352748>: False\n<tensorflow.python.keras.layers.convolutional.Conv2D object at 0x000002350035A588>: True\n<tensorflow.python.keras.layers.convolutional.Conv2D object at 0x0000023500363B88>: True\n<tensorflow.python.keras.layers.convolutional.Conv2D object at 0x000002350036D748>: True\n<tensorflow.python.keras.layers.convolutional.Conv2D object at 0x000002350036EFC8>: True\n<tensorflow.python.keras.layers.pooling.MaxPooling2D object at 0x0000023500379E48>: True\n<tensorflow.python.keras.layers.pooling.GlobalAveragePooling2D object at 0x00000235003B0388>: True\n<tensorflow.python.keras.layers.core.Dense object at 0x000002357F5976C8>: True\n<tensorflow.python.keras.layers.core.Dense object at 0x000002357F55C288>: True\n<tensorflow.python.keras.layers.core.Dense object at 0x000002357F597548>: True\n"
     ]
    }
   ],
   "source": [
    "for layer in model.layers:\n",
    "    print(\"{}: {}\".format(layer, layer.trainable))"
   ]
  },
  {
   "cell_type": "code",
   "execution_count": 10,
   "metadata": {
    "tags": []
   },
   "outputs": [
    {
     "output_type": "stream",
     "name": "stdout",
     "text": [
      "Model: \"model\"\n_________________________________________________________________\nLayer (type)                 Output Shape              Param #   \n=================================================================\ninput_1 (InputLayer)         [(None, 224, 224, 3)]     0         \n_________________________________________________________________\nblock1_conv1 (Conv2D)        (None, 224, 224, 64)      1792      \n_________________________________________________________________\nblock1_conv2 (Conv2D)        (None, 224, 224, 64)      36928     \n_________________________________________________________________\nblock1_pool (MaxPooling2D)   (None, 112, 112, 64)      0         \n_________________________________________________________________\nblock2_conv1 (Conv2D)        (None, 112, 112, 128)     73856     \n_________________________________________________________________\nblock2_conv2 (Conv2D)        (None, 112, 112, 128)     147584    \n_________________________________________________________________\nblock2_pool (MaxPooling2D)   (None, 56, 56, 128)       0         \n_________________________________________________________________\nblock3_conv1 (Conv2D)        (None, 56, 56, 256)       295168    \n_________________________________________________________________\nblock3_conv2 (Conv2D)        (None, 56, 56, 256)       590080    \n_________________________________________________________________\nblock3_conv3 (Conv2D)        (None, 56, 56, 256)       590080    \n_________________________________________________________________\nblock3_conv4 (Conv2D)        (None, 56, 56, 256)       590080    \n_________________________________________________________________\nblock3_pool (MaxPooling2D)   (None, 28, 28, 256)       0         \n_________________________________________________________________\nblock4_conv1 (Conv2D)        (None, 28, 28, 512)       1180160   \n_________________________________________________________________\nblock4_conv2 (Conv2D)        (None, 28, 28, 512)       2359808   \n_________________________________________________________________\nblock4_conv3 (Conv2D)        (None, 28, 28, 512)       2359808   \n_________________________________________________________________\nblock4_conv4 (Conv2D)        (None, 28, 28, 512)       2359808   \n_________________________________________________________________\nblock4_pool (MaxPooling2D)   (None, 14, 14, 512)       0         \n_________________________________________________________________\nblock5_conv1 (Conv2D)        (None, 14, 14, 512)       2359808   \n_________________________________________________________________\nblock5_conv2 (Conv2D)        (None, 14, 14, 512)       2359808   \n_________________________________________________________________\nblock5_conv3 (Conv2D)        (None, 14, 14, 512)       2359808   \n_________________________________________________________________\nblock5_conv4 (Conv2D)        (None, 14, 14, 512)       2359808   \n_________________________________________________________________\nblock5_pool (MaxPooling2D)   (None, 7, 7, 512)         0         \n_________________________________________________________________\nglobal_average_pooling2d (Gl (None, 512)               0         \n_________________________________________________________________\ndense (Dense)                (None, 1024)              525312    \n_________________________________________________________________\ndense_1 (Dense)              (None, 1024)              1049600   \n_________________________________________________________________\ndense_2 (Dense)              (None, 2)                 2050      \n=================================================================\nTotal params: 21,601,346\nTrainable params: 11,016,194\nNon-trainable params: 10,585,152\n_________________________________________________________________\n"
     ]
    }
   ],
   "source": [
    "model.summary()"
   ]
  },
  {
   "cell_type": "code",
   "execution_count": 11,
   "metadata": {},
   "outputs": [],
   "source": [
    "# train_datagen = ImageDataGenerator()\n",
    "# training_set = train_datagen.flow_from_directory(\n",
    "#     train_path\n",
    "#     ,target_size=image_size\n",
    "#     ,color_mode = 'rgb'\n",
    "#     ,batch_size=2000\n",
    "#     ,class_mode='categorical'\n",
    "#     )\n",
    "\n",
    "# data, _ = training_set.next()"
   ]
  },
  {
   "cell_type": "code",
   "execution_count": 12,
   "metadata": {
    "tags": []
   },
   "outputs": [
    {
     "output_type": "stream",
     "name": "stdout",
     "text": [
      "Found 2000 images belonging to 2 classes.\nFound 250 images belonging to 2 classes.\n"
     ]
    }
   ],
   "source": [
    "train_datagen = ImageDataGenerator(\n",
    "        rescale = 1./255\n",
    "        ,width_shift_range = 0.1\n",
    "        ,height_shift_range = 0.1\n",
    "        #,featurewise_center =  True\n",
    "        #,featurewise_std_normalization = True\n",
    "        )\n",
    "\n",
    "# train_datagen.fit(data)\n",
    "\n",
    "validation_datagen = ImageDataGenerator(rescale = 1./255)\n",
    "\n",
    "# validation_datagen.fit(data)\n",
    "\n",
    "training_set = train_datagen.flow_from_directory(\n",
    "        train_path\n",
    "        ,class_mode = 'categorical'\n",
    "        ,target_size = image_size\n",
    "        ,color_mode = 'rgb'\n",
    "        ,shuffle = True\n",
    "        ,batch_size = batch_size\n",
    "        )\n",
    "\n",
    "validation_set = validation_datagen.flow_from_directory(\n",
    "        val_path\n",
    "        ,class_mode = 'categorical'\n",
    "        ,target_size = image_size\n",
    "        ,color_mode = 'rgb'\n",
    "        ,shuffle = False\n",
    "        ,batch_size = batch_size\n",
    "        )"
   ]
  },
  {
   "cell_type": "code",
   "execution_count": 13,
   "metadata": {},
   "outputs": [],
   "source": [
    "model.compile(\n",
    "    optimizer = adam\n",
    "    ,loss = 'categorical_crossentropy'\n",
    "    ,metrics = ['accuracy']\n",
    "    )"
   ]
  },
  {
   "cell_type": "code",
   "execution_count": 23,
   "metadata": {
    "scrolled": false
   },
   "outputs": [
    {
     "name": "stdout",
     "output_type": "stream",
     "text": [
      "WARNING:tensorflow:From <ipython-input-23-f9dd803a0a37>:5: Model.fit_generator (from tensorflow.python.keras.engine.training) is deprecated and will be removed in a future version.\n",
      "Instructions for updating:\n",
      "Please use Model.fit, which supports generators.\n",
      "WARNING:tensorflow:sample_weight modes were coerced from\n",
      "  ...\n",
      "    to  \n",
      "  ['...']\n",
      "WARNING:tensorflow:sample_weight modes were coerced from\n",
      "  ...\n",
      "    to  \n",
      "  ['...']\n",
      "Train for 125 steps, validate for 16 steps\n",
      "Epoch 1/100\n",
      "124/125 [============================>.] - ETA: 0s - loss: 0.3878 - accuracy: 0.8327\n",
      "Epoch 00001: val_loss improved from inf to 0.43639, saving model to C:\\Users\\ahmad\\Documents\\Python Scripts\\project_5\\test_3\\checkpoint\\vgg19gap_checkpoint.h5\n",
      "125/125 [==============================] - 82s 659ms/step - loss: 0.3865 - accuracy: 0.8330 - val_loss: 0.4364 - val_accuracy: 0.8720\n",
      "Epoch 2/100\n",
      "124/125 [============================>.] - ETA: 0s - loss: 0.2397 - accuracy: 0.9128\n",
      "Epoch 00002: val_loss improved from 0.43639 to 0.38275, saving model to C:\\Users\\ahmad\\Documents\\Python Scripts\\project_5\\test_3\\checkpoint\\vgg19gap_checkpoint.h5\n",
      "125/125 [==============================] - 76s 607ms/step - loss: 0.2422 - accuracy: 0.9115 - val_loss: 0.3827 - val_accuracy: 0.9560\n",
      "Epoch 3/100\n",
      "124/125 [============================>.] - ETA: 0s - loss: 0.2184 - accuracy: 0.9178\n",
      "Epoch 00003: val_loss improved from 0.38275 to 0.37875, saving model to C:\\Users\\ahmad\\Documents\\Python Scripts\\project_5\\test_3\\checkpoint\\vgg19gap_checkpoint.h5\n",
      "125/125 [==============================] - 76s 606ms/step - loss: 0.2178 - accuracy: 0.9180 - val_loss: 0.3788 - val_accuracy: 0.9480\n",
      "Epoch 4/100\n",
      "124/125 [============================>.] - ETA: 0s - loss: 0.2083 - accuracy: 0.9249\n",
      "Epoch 00004: val_loss did not improve from 0.37875\n",
      "125/125 [==============================] - 75s 600ms/step - loss: 0.2085 - accuracy: 0.9245 - val_loss: 0.3819 - val_accuracy: 0.9120\n",
      "Epoch 5/100\n",
      "124/125 [============================>.] - ETA: 0s - loss: 0.2056 - accuracy: 0.9219\n",
      "Epoch 00005: val_loss improved from 0.37875 to 0.37324, saving model to C:\\Users\\ahmad\\Documents\\Python Scripts\\project_5\\test_3\\checkpoint\\vgg19gap_checkpoint.h5\n",
      "125/125 [==============================] - 76s 605ms/step - loss: 0.2049 - accuracy: 0.9225 - val_loss: 0.3732 - val_accuracy: 0.9160\n",
      "Epoch 6/100\n",
      "124/125 [============================>.] - ETA: 0s - loss: 0.1990 - accuracy: 0.9309\n",
      "Epoch 00006: val_loss improved from 0.37324 to 0.37211, saving model to C:\\Users\\ahmad\\Documents\\Python Scripts\\project_5\\test_3\\checkpoint\\vgg19gap_checkpoint.h5\n",
      "125/125 [==============================] - 76s 605ms/step - loss: 0.1978 - accuracy: 0.9315 - val_loss: 0.3721 - val_accuracy: 0.9080\n",
      "Epoch 7/100\n",
      "124/125 [============================>.] - ETA: 0s - loss: 0.1875 - accuracy: 0.9325\n",
      "Epoch 00007: val_loss improved from 0.37211 to 0.36026, saving model to C:\\Users\\ahmad\\Documents\\Python Scripts\\project_5\\test_3\\checkpoint\\vgg19gap_checkpoint.h5\n",
      "125/125 [==============================] - 77s 617ms/step - loss: 0.1872 - accuracy: 0.9325 - val_loss: 0.3603 - val_accuracy: 0.9360\n",
      "Epoch 8/100\n",
      "124/125 [============================>.] - ETA: 0s - loss: 0.1881 - accuracy: 0.9289\n",
      "Epoch 00008: val_loss did not improve from 0.36026\n",
      "125/125 [==============================] - 75s 599ms/step - loss: 0.1887 - accuracy: 0.9290 - val_loss: 0.3756 - val_accuracy: 0.8840\n",
      "Epoch 9/100\n",
      "124/125 [============================>.] - ETA: 0s - loss: 0.1853 - accuracy: 0.9304\n",
      "Epoch 00009: val_loss did not improve from 0.36026\n",
      "125/125 [==============================] - 75s 597ms/step - loss: 0.1856 - accuracy: 0.9305 - val_loss: 0.3688 - val_accuracy: 0.8880\n",
      "Epoch 10/100\n",
      "124/125 [============================>.] - ETA: 0s - loss: 0.1846 - accuracy: 0.9299\n",
      "Epoch 00010: val_loss did not improve from 0.36026\n",
      "125/125 [==============================] - 75s 599ms/step - loss: 0.1852 - accuracy: 0.9300 - val_loss: 0.3672 - val_accuracy: 0.8920\n",
      "Epoch 11/100\n",
      "124/125 [============================>.] - ETA: 0s - loss: 0.1795 - accuracy: 0.9360\n",
      "Epoch 00011: val_loss did not improve from 0.36026\n",
      "125/125 [==============================] - 76s 608ms/step - loss: 0.1797 - accuracy: 0.9360 - val_loss: 0.3673 - val_accuracy: 0.8920\n",
      "Epoch 12/100\n",
      "124/125 [============================>.] - ETA: 0s - loss: 0.1792 - accuracy: 0.9325\n",
      "Epoch 00012: val_loss did not improve from 0.36026\n",
      "125/125 [==============================] - 75s 601ms/step - loss: 0.1795 - accuracy: 0.9320 - val_loss: 0.3735 - val_accuracy: 0.8720\n",
      "Epoch 13/100\n",
      "124/125 [============================>.] - ETA: 0s - loss: 0.1760 - accuracy: 0.9345\n",
      "Epoch 00013: val_loss did not improve from 0.36026\n",
      "125/125 [==============================] - 75s 599ms/step - loss: 0.1750 - accuracy: 0.9350 - val_loss: 0.3648 - val_accuracy: 0.8800\n",
      "Epoch 14/100\n",
      "124/125 [============================>.] - ETA: 0s - loss: 0.1741 - accuracy: 0.9370\n",
      "Epoch 00014: val_loss did not improve from 0.36026\n",
      "125/125 [==============================] - 76s 604ms/step - loss: 0.1749 - accuracy: 0.9370 - val_loss: 0.3697 - val_accuracy: 0.8720\n",
      "Epoch 15/100\n",
      "124/125 [============================>.] - ETA: 0s - loss: 0.1758 - accuracy: 0.9370\n",
      "Epoch 00015: val_loss did not improve from 0.36026\n",
      "125/125 [==============================] - 77s 612ms/step - loss: 0.1753 - accuracy: 0.9370 - val_loss: 0.3711 - val_accuracy: 0.8720\n",
      "Epoch 16/100\n",
      "124/125 [============================>.] - ETA: 0s - loss: 0.1696 - accuracy: 0.9335\n",
      "Epoch 00016: val_loss did not improve from 0.36026\n",
      "125/125 [==============================] - 76s 605ms/step - loss: 0.1691 - accuracy: 0.9335 - val_loss: 0.3730 - val_accuracy: 0.8600\n",
      "Epoch 17/100\n",
      "124/125 [============================>.] - ETA: 0s - loss: 0.1676 - accuracy: 0.9410\n",
      "Epoch 00017: val_loss did not improve from 0.36026\n",
      "125/125 [==============================] - 75s 602ms/step - loss: 0.1671 - accuracy: 0.9415 - val_loss: 0.3640 - val_accuracy: 0.8720\n",
      "Epoch 18/100\n",
      "124/125 [============================>.] - ETA: 0s - loss: 0.1732 - accuracy: 0.9385\n",
      "Epoch 00018: val_loss did not improve from 0.36026\n",
      "125/125 [==============================] - 75s 602ms/step - loss: 0.1733 - accuracy: 0.9385 - val_loss: 0.3674 - val_accuracy: 0.8680\n",
      "Epoch 19/100\n",
      "124/125 [============================>.] - ETA: 0s - loss: 0.1694 - accuracy: 0.9350\n",
      "Epoch 00019: val_loss did not improve from 0.36026\n",
      "125/125 [==============================] - 75s 598ms/step - loss: 0.1692 - accuracy: 0.9350 - val_loss: 0.3740 - val_accuracy: 0.8560\n",
      "Epoch 20/100\n",
      "124/125 [============================>.] - ETA: 0s - loss: 0.1679 - accuracy: 0.9375\n",
      "Epoch 00020: val_loss did not improve from 0.36026\n",
      "125/125 [==============================] - 75s 602ms/step - loss: 0.1673 - accuracy: 0.9380 - val_loss: 0.3607 - val_accuracy: 0.8760\n",
      "Epoch 21/100\n",
      "124/125 [============================>.] - ETA: 0s - loss: 0.1695 - accuracy: 0.9375\n",
      "Epoch 00021: val_loss did not improve from 0.36026\n",
      "125/125 [==============================] - 75s 602ms/step - loss: 0.1690 - accuracy: 0.9380 - val_loss: 0.3654 - val_accuracy: 0.8640\n",
      "Epoch 22/100\n",
      "124/125 [============================>.] - ETA: 0s - loss: 0.1669 - accuracy: 0.9380\n",
      "Epoch 00022: val_loss did not improve from 0.36026\n",
      "125/125 [==============================] - 76s 605ms/step - loss: 0.1667 - accuracy: 0.9380 - val_loss: 0.3676 - val_accuracy: 0.8600\n",
      "Epoch 23/100\n",
      "124/125 [============================>.] - ETA: 0s - loss: 0.1654 - accuracy: 0.9370\n",
      "Epoch 00023: val_loss improved from 0.36026 to 0.35345, saving model to C:\\Users\\ahmad\\Documents\\Python Scripts\\project_5\\test_3\\checkpoint\\vgg19gap_checkpoint.h5\n",
      "125/125 [==============================] - 76s 610ms/step - loss: 0.1646 - accuracy: 0.9375 - val_loss: 0.3535 - val_accuracy: 0.8880\n",
      "Epoch 24/100\n",
      "124/125 [============================>.] - ETA: 0s - loss: 0.1642 - accuracy: 0.9425\n",
      "Epoch 00024: val_loss did not improve from 0.35345\n",
      "125/125 [==============================] - 75s 602ms/step - loss: 0.1636 - accuracy: 0.9430 - val_loss: 0.3550 - val_accuracy: 0.8840\n",
      "Epoch 25/100\n",
      "124/125 [============================>.] - ETA: 0s - loss: 0.1610 - accuracy: 0.9441\n",
      "Epoch 00025: val_loss did not improve from 0.35345\n",
      "125/125 [==============================] - 75s 603ms/step - loss: 0.1619 - accuracy: 0.9440 - val_loss: 0.3673 - val_accuracy: 0.8600\n"
     ]
    },
    {
     "name": "stdout",
     "output_type": "stream",
     "text": [
      "Epoch 26/100\n",
      "124/125 [============================>.] - ETA: 0s - loss: 0.1608 - accuracy: 0.9410\n",
      "Epoch 00026: val_loss did not improve from 0.35345\n",
      "125/125 [==============================] - 75s 601ms/step - loss: 0.1610 - accuracy: 0.9410 - val_loss: 0.3628 - val_accuracy: 0.8600\n",
      "Epoch 27/100\n",
      "124/125 [============================>.] - ETA: 0s - loss: 0.1553 - accuracy: 0.9466\n",
      "Epoch 00027: val_loss did not improve from 0.35345\n",
      "125/125 [==============================] - 76s 609ms/step - loss: 0.1556 - accuracy: 0.9460 - val_loss: 0.3616 - val_accuracy: 0.8640\n",
      "Epoch 28/100\n",
      "124/125 [============================>.] - ETA: 0s - loss: 0.1576 - accuracy: 0.9441\n",
      "Epoch 00028: val_loss did not improve from 0.35345\n",
      "125/125 [==============================] - 77s 613ms/step - loss: 0.1571 - accuracy: 0.9445 - val_loss: 0.3542 - val_accuracy: 0.8720\n",
      "Epoch 29/100\n",
      "124/125 [============================>.] - ETA: 0s - loss: 0.1632 - accuracy: 0.9395\n",
      "Epoch 00029: val_loss did not improve from 0.35345\n",
      "125/125 [==============================] - 76s 609ms/step - loss: 0.1624 - accuracy: 0.9400 - val_loss: 0.3618 - val_accuracy: 0.8560\n",
      "Epoch 30/100\n",
      "124/125 [============================>.] - ETA: 0s - loss: 0.1552 - accuracy: 0.9461\n",
      "Epoch 00030: val_loss did not improve from 0.35345\n",
      "125/125 [==============================] - 78s 625ms/step - loss: 0.1569 - accuracy: 0.9445 - val_loss: 0.3562 - val_accuracy: 0.8680\n",
      "Epoch 31/100\n",
      "124/125 [============================>.] - ETA: 0s - loss: 0.1578 - accuracy: 0.9420\n",
      "Epoch 00031: val_loss did not improve from 0.35345\n",
      "125/125 [==============================] - 77s 617ms/step - loss: 0.1579 - accuracy: 0.9420 - val_loss: 0.3614 - val_accuracy: 0.8560\n",
      "Epoch 32/100\n",
      "124/125 [============================>.] - ETA: 0s - loss: 0.1578 - accuracy: 0.9420\n",
      "Epoch 00032: val_loss did not improve from 0.35345\n",
      "125/125 [==============================] - 76s 608ms/step - loss: 0.1578 - accuracy: 0.9420 - val_loss: 0.3673 - val_accuracy: 0.8440\n",
      "Epoch 33/100\n",
      "124/125 [============================>.] - ETA: 0s - loss: 0.1547 - accuracy: 0.9425\n",
      "Epoch 00033: val_loss did not improve from 0.35345\n",
      "125/125 [==============================] - 77s 620ms/step - loss: 0.1537 - accuracy: 0.9430 - val_loss: 0.3635 - val_accuracy: 0.8480\n",
      "Epoch 34/100\n",
      "124/125 [============================>.] - ETA: 0s - loss: 0.1566 - accuracy: 0.9441\n",
      "Epoch 00034: val_loss did not improve from 0.35345\n",
      "125/125 [==============================] - 76s 605ms/step - loss: 0.1577 - accuracy: 0.9435 - val_loss: 0.3644 - val_accuracy: 0.8480\n",
      "Epoch 35/100\n",
      "124/125 [============================>.] - ETA: 0s - loss: 0.1531 - accuracy: 0.9461\n",
      "Epoch 00035: val_loss did not improve from 0.35345\n",
      "125/125 [==============================] - 77s 614ms/step - loss: 0.1550 - accuracy: 0.9445 - val_loss: 0.3581 - val_accuracy: 0.8560\n",
      "Epoch 36/100\n",
      "124/125 [============================>.] - ETA: 0s - loss: 0.1536 - accuracy: 0.9425\n",
      "Epoch 00036: val_loss did not improve from 0.35345\n",
      "125/125 [==============================] - 76s 611ms/step - loss: 0.1527 - accuracy: 0.9430 - val_loss: 0.3541 - val_accuracy: 0.8640\n",
      "Epoch 37/100\n",
      "124/125 [============================>.] - ETA: 0s - loss: 0.1531 - accuracy: 0.9430\n",
      "Epoch 00037: val_loss did not improve from 0.35345\n",
      "125/125 [==============================] - 76s 608ms/step - loss: 0.1523 - accuracy: 0.9435 - val_loss: 0.3558 - val_accuracy: 0.8600\n",
      "Epoch 38/100\n",
      "124/125 [============================>.] - ETA: 0s - loss: 0.1546 - accuracy: 0.9435\n",
      "Epoch 00038: val_loss did not improve from 0.35345\n",
      "125/125 [==============================] - 79s 630ms/step - loss: 0.1555 - accuracy: 0.9435 - val_loss: 0.3570 - val_accuracy: 0.8600\n",
      "Epoch 39/100\n",
      "124/125 [============================>.] - ETA: 0s - loss: 0.1506 - accuracy: 0.9471\n",
      "Epoch 00039: val_loss did not improve from 0.35345\n",
      "125/125 [==============================] - 77s 615ms/step - loss: 0.1502 - accuracy: 0.9475 - val_loss: 0.3567 - val_accuracy: 0.8600\n",
      "Epoch 40/100\n",
      "124/125 [============================>.] - ETA: 0s - loss: 0.1556 - accuracy: 0.9425\n",
      "Epoch 00040: val_loss did not improve from 0.35345\n",
      "125/125 [==============================] - 77s 612ms/step - loss: 0.1547 - accuracy: 0.9430 - val_loss: 0.3536 - val_accuracy: 0.8640\n",
      "Epoch 41/100\n",
      "124/125 [============================>.] - ETA: 0s - loss: 0.1529 - accuracy: 0.9451\n",
      "Epoch 00041: val_loss did not improve from 0.35345\n",
      "125/125 [==============================] - 77s 613ms/step - loss: 0.1529 - accuracy: 0.9450 - val_loss: 0.3624 - val_accuracy: 0.8440\n",
      "Epoch 42/100\n",
      "124/125 [============================>.] - ETA: 0s - loss: 0.1543 - accuracy: 0.9446\n",
      "Epoch 00042: val_loss did not improve from 0.35345\n",
      "125/125 [==============================] - 76s 609ms/step - loss: 0.1537 - accuracy: 0.9450 - val_loss: 0.3645 - val_accuracy: 0.8440\n",
      "Epoch 43/100\n",
      "124/125 [============================>.] - ETA: 0s - loss: 0.1501 - accuracy: 0.9456\n",
      "Epoch 00043: val_loss did not improve from 0.35345\n",
      "125/125 [==============================] - 78s 624ms/step - loss: 0.1504 - accuracy: 0.9455 - val_loss: 0.3613 - val_accuracy: 0.8440\n",
      "Epoch 44/100\n",
      "124/125 [============================>.] - ETA: 0s - loss: 0.1548 - accuracy: 0.9435\n",
      "Epoch 00044: val_loss did not improve from 0.35345\n",
      "125/125 [==============================] - 76s 612ms/step - loss: 0.1562 - accuracy: 0.9435 - val_loss: 0.3703 - val_accuracy: 0.8320\n",
      "Epoch 45/100\n",
      "124/125 [============================>.] - ETA: 0s - loss: 0.1522 - accuracy: 0.9456\n",
      "Epoch 00045: val_loss did not improve from 0.35345\n",
      "125/125 [==============================] - 76s 605ms/step - loss: 0.1511 - accuracy: 0.9460 - val_loss: 0.3698 - val_accuracy: 0.8280\n",
      "Epoch 46/100\n",
      "124/125 [============================>.] - ETA: 0s - loss: 0.1519 - accuracy: 0.9441\n",
      "Epoch 00046: val_loss did not improve from 0.35345\n",
      "125/125 [==============================] - 78s 626ms/step - loss: 0.1512 - accuracy: 0.9445 - val_loss: 0.3668 - val_accuracy: 0.8360\n",
      "Epoch 47/100\n",
      "124/125 [============================>.] - ETA: 0s - loss: 0.1495 - accuracy: 0.9461\n",
      "Epoch 00047: val_loss did not improve from 0.35345\n",
      "125/125 [==============================] - 77s 613ms/step - loss: 0.1489 - accuracy: 0.9465 - val_loss: 0.3622 - val_accuracy: 0.8400\n",
      "Epoch 48/100\n",
      "124/125 [============================>.] - ETA: 0s - loss: 0.1466 - accuracy: 0.9461\n",
      "Epoch 00048: val_loss did not improve from 0.35345\n",
      "125/125 [==============================] - 75s 601ms/step - loss: 0.1463 - accuracy: 0.9465 - val_loss: 0.3622 - val_accuracy: 0.8400\n",
      "Epoch 49/100\n",
      "124/125 [============================>.] - ETA: 0s - loss: 0.1448 - accuracy: 0.9511\n",
      "Epoch 00049: val_loss did not improve from 0.35345\n",
      "125/125 [==============================] - 75s 599ms/step - loss: 0.1444 - accuracy: 0.9510 - val_loss: 0.3648 - val_accuracy: 0.8320\n",
      "Epoch 50/100\n",
      "124/125 [============================>.] - ETA: 0s - loss: 0.1519 - accuracy: 0.9425\n",
      "Epoch 00050: val_loss did not improve from 0.35345\n",
      "125/125 [==============================] - 75s 598ms/step - loss: 0.1516 - accuracy: 0.9430 - val_loss: 0.3597 - val_accuracy: 0.8480\n",
      "Epoch 51/100\n",
      "124/125 [============================>.] - ETA: 0s - loss: 0.1497 - accuracy: 0.9461\n",
      "Epoch 00051: val_loss did not improve from 0.35345\n",
      "125/125 [==============================] - 77s 612ms/step - loss: 0.1511 - accuracy: 0.9460 - val_loss: 0.3668 - val_accuracy: 0.8280\n",
      "Epoch 52/100\n",
      "124/125 [============================>.] - ETA: 0s - loss: 0.1499 - accuracy: 0.9501\n",
      "Epoch 00052: val_loss did not improve from 0.35345\n",
      "125/125 [==============================] - 79s 633ms/step - loss: 0.1499 - accuracy: 0.9500 - val_loss: 0.3620 - val_accuracy: 0.8400\n",
      "Epoch 53/100\n",
      "124/125 [============================>.] - ETA: 0s - loss: 0.1478 - accuracy: 0.9456\n",
      "Epoch 00053: val_loss did not improve from 0.35345\n",
      "125/125 [==============================] - 81s 645ms/step - loss: 0.1470 - accuracy: 0.9460 - val_loss: 0.3610 - val_accuracy: 0.8440\n",
      "Epoch 54/100\n",
      "124/125 [============================>.] - ETA: 0s - loss: 0.1479 - accuracy: 0.9435\n",
      "Epoch 00054: val_loss did not improve from 0.35345\n",
      "125/125 [==============================] - 79s 631ms/step - loss: 0.1492 - accuracy: 0.9425 - val_loss: 0.3645 - val_accuracy: 0.8320\n"
     ]
    },
    {
     "name": "stdout",
     "output_type": "stream",
     "text": [
      "Epoch 55/100\n",
      "124/125 [============================>.] - ETA: 0s - loss: 0.1454 - accuracy: 0.9481\n",
      "Epoch 00055: val_loss did not improve from 0.35345\n",
      "125/125 [==============================] - 78s 624ms/step - loss: 0.1448 - accuracy: 0.9485 - val_loss: 0.3622 - val_accuracy: 0.8320\n",
      "Epoch 56/100\n",
      "124/125 [============================>.] - ETA: 0s - loss: 0.1449 - accuracy: 0.9511\n",
      "Epoch 00056: val_loss did not improve from 0.35345\n",
      "125/125 [==============================] - 78s 621ms/step - loss: 0.1443 - accuracy: 0.9515 - val_loss: 0.3615 - val_accuracy: 0.8360\n",
      "Epoch 57/100\n",
      "124/125 [============================>.] - ETA: 0s - loss: 0.1460 - accuracy: 0.9395\n",
      "Epoch 00057: val_loss did not improve from 0.35345\n",
      "125/125 [==============================] - 77s 612ms/step - loss: 0.1460 - accuracy: 0.9395 - val_loss: 0.3610 - val_accuracy: 0.8360\n",
      "Epoch 58/100\n",
      "124/125 [============================>.] - ETA: 0s - loss: 0.1471 - accuracy: 0.9461\n",
      "Epoch 00058: val_loss did not improve from 0.35345\n",
      "125/125 [==============================] - 77s 613ms/step - loss: 0.1462 - accuracy: 0.9465 - val_loss: 0.3660 - val_accuracy: 0.8280\n",
      "Epoch 59/100\n",
      "124/125 [============================>.] - ETA: 0s - loss: 0.1455 - accuracy: 0.9496\n",
      "Epoch 00059: val_loss did not improve from 0.35345\n",
      "125/125 [==============================] - 79s 631ms/step - loss: 0.1460 - accuracy: 0.9495 - val_loss: 0.3654 - val_accuracy: 0.8280\n",
      "Epoch 60/100\n",
      "124/125 [============================>.] - ETA: 0s - loss: 0.1443 - accuracy: 0.9501\n",
      "Epoch 00060: val_loss did not improve from 0.35345\n",
      "125/125 [==============================] - 81s 649ms/step - loss: 0.1448 - accuracy: 0.9500 - val_loss: 0.3653 - val_accuracy: 0.8280\n",
      "Epoch 61/100\n",
      "124/125 [============================>.] - ETA: 0s - loss: 0.1461 - accuracy: 0.9471\n",
      "Epoch 00061: val_loss did not improve from 0.35345\n",
      "125/125 [==============================] - 82s 655ms/step - loss: 0.1455 - accuracy: 0.9470 - val_loss: 0.3642 - val_accuracy: 0.8280\n",
      "Epoch 62/100\n",
      "124/125 [============================>.] - ETA: 0s - loss: 0.1466 - accuracy: 0.9481\n",
      "Epoch 00062: val_loss did not improve from 0.35345\n",
      "125/125 [==============================] - 87s 699ms/step - loss: 0.1463 - accuracy: 0.9480 - val_loss: 0.3597 - val_accuracy: 0.8360\n",
      "Epoch 63/100\n",
      "124/125 [============================>.] - ETA: 0s - loss: 0.1482 - accuracy: 0.9461\n",
      "Epoch 00063: val_loss did not improve from 0.35345\n",
      "125/125 [==============================] - 90s 723ms/step - loss: 0.1477 - accuracy: 0.9460 - val_loss: 0.3640 - val_accuracy: 0.8280\n",
      "Epoch 64/100\n",
      "124/125 [============================>.] - ETA: 0s - loss: 0.1488 - accuracy: 0.9511\n",
      "Epoch 00064: val_loss did not improve from 0.35345\n",
      "125/125 [==============================] - 90s 721ms/step - loss: 0.1480 - accuracy: 0.9515 - val_loss: 0.3652 - val_accuracy: 0.8280\n",
      "Epoch 65/100\n",
      "124/125 [============================>.] - ETA: 0s - loss: 0.1458 - accuracy: 0.9476\n",
      "Epoch 00065: val_loss did not improve from 0.35345\n",
      "125/125 [==============================] - 92s 738ms/step - loss: 0.1455 - accuracy: 0.9475 - val_loss: 0.3660 - val_accuracy: 0.8280\n",
      "Epoch 66/100\n",
      "124/125 [============================>.] - ETA: 0s - loss: 0.1459 - accuracy: 0.9491\n",
      "Epoch 00066: val_loss did not improve from 0.35345\n",
      "125/125 [==============================] - 89s 710ms/step - loss: 0.1449 - accuracy: 0.9495 - val_loss: 0.3684 - val_accuracy: 0.8240\n",
      "Epoch 67/100\n",
      "124/125 [============================>.] - ETA: 0s - loss: 0.1418 - accuracy: 0.9516\n",
      "Epoch 00067: val_loss did not improve from 0.35345\n",
      "125/125 [==============================] - 83s 663ms/step - loss: 0.1419 - accuracy: 0.9515 - val_loss: 0.3693 - val_accuracy: 0.8160\n",
      "Epoch 68/100\n",
      "124/125 [============================>.] - ETA: 0s - loss: 0.1461 - accuracy: 0.9466\n",
      "Epoch 00068: val_loss did not improve from 0.35345\n",
      "125/125 [==============================] - 86s 691ms/step - loss: 0.1462 - accuracy: 0.9465 - val_loss: 0.3678 - val_accuracy: 0.8200\n",
      "Epoch 69/100\n",
      "124/125 [============================>.] - ETA: 0s - loss: 0.1396 - accuracy: 0.9506\n",
      "Epoch 00069: val_loss did not improve from 0.35345\n",
      "125/125 [==============================] - 85s 679ms/step - loss: 0.1404 - accuracy: 0.9500 - val_loss: 0.3669 - val_accuracy: 0.8200\n",
      "Epoch 70/100\n",
      "124/125 [============================>.] - ETA: 0s - loss: 0.1454 - accuracy: 0.9476\n",
      "Epoch 00070: val_loss did not improve from 0.35345\n",
      "125/125 [==============================] - 87s 696ms/step - loss: 0.1450 - accuracy: 0.9480 - val_loss: 0.3641 - val_accuracy: 0.8320\n",
      "Epoch 71/100\n",
      "124/125 [============================>.] - ETA: 0s - loss: 0.1422 - accuracy: 0.9521\n",
      "Epoch 00071: val_loss did not improve from 0.35345\n",
      "125/125 [==============================] - 92s 734ms/step - loss: 0.1415 - accuracy: 0.9525 - val_loss: 0.3602 - val_accuracy: 0.8360\n",
      "Epoch 72/100\n",
      "124/125 [============================>.] - ETA: 0s - loss: 0.1418 - accuracy: 0.9536\n",
      "Epoch 00072: val_loss did not improve from 0.35345\n",
      "125/125 [==============================] - 88s 705ms/step - loss: 0.1413 - accuracy: 0.9540 - val_loss: 0.3671 - val_accuracy: 0.8160\n",
      "Epoch 73/100\n",
      "124/125 [============================>.] - ETA: 0s - loss: 0.1430 - accuracy: 0.9526\n",
      "Epoch 00073: val_loss did not improve from 0.35345\n",
      "125/125 [==============================] - 90s 724ms/step - loss: 0.1423 - accuracy: 0.9530 - val_loss: 0.3665 - val_accuracy: 0.8200\n",
      "Epoch 74/100\n",
      "124/125 [============================>.] - ETA: 0s - loss: 0.1444 - accuracy: 0.9466\n",
      "Epoch 00074: val_loss did not improve from 0.35345\n",
      "125/125 [==============================] - 88s 708ms/step - loss: 0.1451 - accuracy: 0.9465 - val_loss: 0.3664 - val_accuracy: 0.8200\n",
      "Epoch 75/100\n",
      "124/125 [============================>.] - ETA: 0s - loss: 0.1440 - accuracy: 0.9516\n",
      "Epoch 00075: val_loss did not improve from 0.35345\n",
      "125/125 [==============================] - 91s 729ms/step - loss: 0.1442 - accuracy: 0.9515 - val_loss: 0.3639 - val_accuracy: 0.8280\n",
      "Epoch 76/100\n",
      "124/125 [============================>.] - ETA: 0s - loss: 0.1428 - accuracy: 0.9506\n",
      "Epoch 00076: val_loss did not improve from 0.35345\n",
      "125/125 [==============================] - 88s 704ms/step - loss: 0.1422 - accuracy: 0.9510 - val_loss: 0.3630 - val_accuracy: 0.8320\n",
      "Epoch 77/100\n",
      "124/125 [============================>.] - ETA: 0s - loss: 0.1395 - accuracy: 0.9556\n",
      "Epoch 00077: val_loss did not improve from 0.35345\n",
      "125/125 [==============================] - 87s 693ms/step - loss: 0.1385 - accuracy: 0.9560 - val_loss: 0.3646 - val_accuracy: 0.8240\n",
      "Epoch 78/100\n",
      "124/125 [============================>.] - ETA: 0s - loss: 0.1370 - accuracy: 0.9516\n",
      "Epoch 00078: val_loss did not improve from 0.35345\n",
      "125/125 [==============================] - 87s 699ms/step - loss: 0.1378 - accuracy: 0.9515 - val_loss: 0.3646 - val_accuracy: 0.8240\n",
      "Epoch 79/100\n",
      "124/125 [============================>.] - ETA: 0s - loss: 0.1397 - accuracy: 0.9481\n",
      "Epoch 00079: val_loss did not improve from 0.35345\n",
      "125/125 [==============================] - 87s 695ms/step - loss: 0.1391 - accuracy: 0.9485 - val_loss: 0.3580 - val_accuracy: 0.8360\n",
      "Epoch 80/100\n",
      "124/125 [============================>.] - ETA: 0s - loss: 0.1398 - accuracy: 0.9526\n",
      "Epoch 00080: val_loss did not improve from 0.35345\n",
      "125/125 [==============================] - 87s 697ms/step - loss: 0.1397 - accuracy: 0.9525 - val_loss: 0.3587 - val_accuracy: 0.8320\n",
      "Epoch 81/100\n",
      "124/125 [============================>.] - ETA: 0s - loss: 0.1419 - accuracy: 0.9501\n",
      "Epoch 00081: val_loss did not improve from 0.35345\n",
      "125/125 [==============================] - 88s 703ms/step - loss: 0.1411 - accuracy: 0.9505 - val_loss: 0.3656 - val_accuracy: 0.8200\n",
      "Epoch 82/100\n",
      "124/125 [============================>.] - ETA: 0s - loss: 0.1366 - accuracy: 0.9516\n",
      "Epoch 00082: val_loss did not improve from 0.35345\n",
      "125/125 [==============================] - 90s 717ms/step - loss: 0.1371 - accuracy: 0.9510 - val_loss: 0.3634 - val_accuracy: 0.8240\n",
      "Epoch 83/100\n",
      "124/125 [============================>.] - ETA: 0s - loss: 0.1361 - accuracy: 0.9531\n",
      "Epoch 00083: val_loss did not improve from 0.35345\n",
      "125/125 [==============================] - 86s 687ms/step - loss: 0.1379 - accuracy: 0.9520 - val_loss: 0.3632 - val_accuracy: 0.8200\n"
     ]
    },
    {
     "name": "stdout",
     "output_type": "stream",
     "text": [
      "Epoch 84/100\n",
      "124/125 [============================>.] - ETA: 0s - loss: 0.1383 - accuracy: 0.9506\n",
      "Epoch 00084: val_loss did not improve from 0.35345\n",
      "125/125 [==============================] - 87s 695ms/step - loss: 0.1389 - accuracy: 0.9500 - val_loss: 0.3626 - val_accuracy: 0.8240\n",
      "Epoch 85/100\n",
      "124/125 [============================>.] - ETA: 0s - loss: 0.1345 - accuracy: 0.9526\n",
      "Epoch 00085: val_loss did not improve from 0.35345\n",
      "125/125 [==============================] - 86s 687ms/step - loss: 0.1356 - accuracy: 0.9525 - val_loss: 0.3650 - val_accuracy: 0.8200\n",
      "Epoch 86/100\n",
      "124/125 [============================>.] - ETA: 0s - loss: 0.1372 - accuracy: 0.9536\n",
      "Epoch 00086: val_loss did not improve from 0.35345\n",
      "125/125 [==============================] - 88s 702ms/step - loss: 0.1364 - accuracy: 0.9540 - val_loss: 0.3646 - val_accuracy: 0.8200\n",
      "Epoch 87/100\n",
      "124/125 [============================>.] - ETA: 0s - loss: 0.1355 - accuracy: 0.9531\n",
      "Epoch 00087: val_loss did not improve from 0.35345\n",
      "125/125 [==============================] - 85s 677ms/step - loss: 0.1385 - accuracy: 0.9520 - val_loss: 0.3647 - val_accuracy: 0.8200\n",
      "Epoch 88/100\n",
      "124/125 [============================>.] - ETA: 0s - loss: 0.1439 - accuracy: 0.9506\n",
      "Epoch 00088: val_loss did not improve from 0.35345\n",
      "125/125 [==============================] - 86s 686ms/step - loss: 0.1430 - accuracy: 0.9510 - val_loss: 0.3637 - val_accuracy: 0.8200\n",
      "Epoch 89/100\n",
      "124/125 [============================>.] - ETA: 0s - loss: 0.1391 - accuracy: 0.9511\n",
      "Epoch 00089: val_loss did not improve from 0.35345\n",
      "125/125 [==============================] - 86s 692ms/step - loss: 0.1391 - accuracy: 0.9510 - val_loss: 0.3659 - val_accuracy: 0.8200\n",
      "Epoch 90/100\n",
      "124/125 [============================>.] - ETA: 0s - loss: 0.1381 - accuracy: 0.9511\n",
      "Epoch 00090: val_loss did not improve from 0.35345\n",
      "125/125 [==============================] - 83s 668ms/step - loss: 0.1375 - accuracy: 0.9515 - val_loss: 0.3608 - val_accuracy: 0.8240\n",
      "Epoch 91/100\n",
      "124/125 [============================>.] - ETA: 0s - loss: 0.1382 - accuracy: 0.9521\n",
      "Epoch 00091: val_loss did not improve from 0.35345\n",
      "125/125 [==============================] - 83s 663ms/step - loss: 0.1381 - accuracy: 0.9525 - val_loss: 0.3684 - val_accuracy: 0.8160\n",
      "Epoch 92/100\n",
      "124/125 [============================>.] - ETA: 0s - loss: 0.1349 - accuracy: 0.9516\n",
      "Epoch 00092: val_loss did not improve from 0.35345\n",
      "125/125 [==============================] - 83s 666ms/step - loss: 0.1341 - accuracy: 0.9520 - val_loss: 0.3687 - val_accuracy: 0.8120\n",
      "Epoch 93/100\n",
      "124/125 [============================>.] - ETA: 0s - loss: 0.1360 - accuracy: 0.9511\n",
      "Epoch 00093: val_loss did not improve from 0.35345\n",
      "125/125 [==============================] - 83s 661ms/step - loss: 0.1353 - accuracy: 0.9515 - val_loss: 0.3684 - val_accuracy: 0.8160\n",
      "Epoch 94/100\n",
      "124/125 [============================>.] - ETA: 0s - loss: 0.1364 - accuracy: 0.9501\n",
      "Epoch 00094: val_loss did not improve from 0.35345\n",
      "125/125 [==============================] - 84s 670ms/step - loss: 0.1376 - accuracy: 0.9495 - val_loss: 0.3712 - val_accuracy: 0.8120\n",
      "Epoch 95/100\n",
      "124/125 [============================>.] - ETA: 0s - loss: 0.1376 - accuracy: 0.9536\n",
      "Epoch 00095: val_loss did not improve from 0.35345\n",
      "125/125 [==============================] - 80s 642ms/step - loss: 0.1370 - accuracy: 0.9540 - val_loss: 0.3650 - val_accuracy: 0.8200\n",
      "Epoch 96/100\n",
      "124/125 [============================>.] - ETA: 0s - loss: 0.1347 - accuracy: 0.9526\n",
      "Epoch 00096: val_loss did not improve from 0.35345\n",
      "125/125 [==============================] - 81s 648ms/step - loss: 0.1343 - accuracy: 0.9530 - val_loss: 0.3692 - val_accuracy: 0.8160\n",
      "Epoch 97/100\n",
      "124/125 [============================>.] - ETA: 0s - loss: 0.1337 - accuracy: 0.9531\n",
      "Epoch 00097: val_loss did not improve from 0.35345\n",
      "125/125 [==============================] - 80s 638ms/step - loss: 0.1362 - accuracy: 0.9525 - val_loss: 0.3682 - val_accuracy: 0.8160\n",
      "Epoch 98/100\n",
      "124/125 [============================>.] - ETA: 0s - loss: 0.1337 - accuracy: 0.9531\n",
      "Epoch 00098: val_loss did not improve from 0.35345\n",
      "125/125 [==============================] - 79s 636ms/step - loss: 0.1338 - accuracy: 0.9530 - val_loss: 0.3689 - val_accuracy: 0.8160\n",
      "Epoch 99/100\n",
      "124/125 [============================>.] - ETA: 0s - loss: 0.1357 - accuracy: 0.9536\n",
      "Epoch 00099: val_loss did not improve from 0.35345\n",
      "125/125 [==============================] - 79s 635ms/step - loss: 0.1356 - accuracy: 0.9535 - val_loss: 0.3696 - val_accuracy: 0.8160\n",
      "Epoch 100/100\n",
      "124/125 [============================>.] - ETA: 0s - loss: 0.1355 - accuracy: 0.9556\n",
      "Epoch 00100: val_loss did not improve from 0.35345\n",
      "125/125 [==============================] - 79s 635ms/step - loss: 0.1348 - accuracy: 0.9560 - val_loss: 0.3687 - val_accuracy: 0.8160\n"
     ]
    }
   ],
   "source": [
    "# training & validation results shown below is after rerun\n",
    "history = model.fit_generator(\n",
    "    training_set\n",
    "    ,epochs = epochs\n",
    "    ,validation_data = validation_set\n",
    "    ,callbacks = callbacks\n",
    "    )"
   ]
  },
  {
   "cell_type": "code",
   "execution_count": 21,
   "metadata": {},
   "outputs": [
    {
     "name": "stdout",
     "output_type": "stream",
     "text": [
      "dict_keys(['loss', 'accuracy', 'val_loss', 'val_accuracy'])\n"
     ]
    }
   ],
   "source": [
    "print(history.history.keys())"
   ]
  },
  {
   "cell_type": "code",
   "execution_count": 48,
   "metadata": {},
   "outputs": [
    {
     "data": {
      "image/png": "[encoded data removed]",
      "text/plain": [
       "<Figure size 432x288 with 1 Axes>"
      ]
     },
     "metadata": {},
     "output_type": "display_data"
    }
   ],
   "source": [
    "# original results\n",
    "plt.style.use('seaborn-darkgrid')\n",
    "plt.figure()\n",
    "plt.plot(history.history['loss'], color = 'red')\n",
    "plt.plot(history.history['val_loss'], color = 'darkgreen')\n",
    "plt.plot(history.history['accuracy'], color = 'magenta')\n",
    "plt.plot(history.history['val_accuracy'], color = 'blue')\n",
    "plt.title('Model Loss/Accuracy')\n",
    "plt.ylabel('Loss/Accuracy')\n",
    "plt.xlabel('Epoch #')\n",
    "plt.legend(['train_loss', 'val_loss', 'train_acc', 'val_acc'], loc = 'center right')\n",
    "plt.grid(axis = 'y', c = 'black', alpha = 0.2)\n",
    "plt.grid(axis = 'x', c = 'black', alpha = 0.2)\n",
    "#plt.savefig(r'graphs\\vgg19gap_acc_loss.png', dpi = 100)"
   ]
  },
  {
   "cell_type": "code",
   "execution_count": 23,
   "metadata": {},
   "outputs": [
    {
     "data": {
      "image/png": "[encoded data removed]",
      "text/plain": [
       "<Figure size 432x288 with 1 Axes>"
      ]
     },
     "metadata": {},
     "output_type": "display_data"
    }
   ],
   "source": [
    "# original results\n",
    "plt.style.use('seaborn-darkgrid')\n",
    "plt.figure()\n",
    "plt.plot(history.history['accuracy'], color = 'magenta')\n",
    "plt.plot(history.history['val_accuracy'], color = '#606060')\n",
    "plt.title('Model Accuracy')\n",
    "plt.ylabel('Accuracy')\n",
    "plt.xlabel('Epoch #')\n",
    "plt.legend(['train_acc', 'val_acc'], loc = 'lower right')\n",
    "plt.grid(axis = 'y', c = 'black', alpha = 0.2)\n",
    "plt.grid(axis = 'x', c = 'black', alpha = 0.2)\n",
    "#plt.savefig(r'graphs\\vgg19gap_acc.png', dpi = 100)"
   ]
  },
  {
   "cell_type": "code",
   "execution_count": 24,
   "metadata": {},
   "outputs": [
    {
     "data": {
      "image/png": "[encoded data removed]",
      "text/plain": [
       "<Figure size 432x288 with 1 Axes>"
      ]
     },
     "metadata": {},
     "output_type": "display_data"
    }
   ],
   "source": [
    "# original results\n",
    "plt.style.use('seaborn-darkgrid')\n",
    "plt.figure()\n",
    "plt.plot(history.history['loss'], color = 'magenta')\n",
    "plt.plot(history.history['val_loss'], color = '#606060')\n",
    "plt.title('Model Loss')\n",
    "plt.ylabel('Loss')\n",
    "plt.xlabel('Epoch #')\n",
    "plt.legend(['train_loss', 'val_loss'], loc = 'upper right')\n",
    "plt.grid(axis = 'y', c = 'black', alpha = 0.2)\n",
    "plt.grid(axis = 'x', c = 'black', alpha = 0.2)\n",
    "#plt.savefig(r'graphs\\vgg19gap_loss.png', dpi = 100)"
   ]
  },
  {
   "cell_type": "code",
   "execution_count": 49,
   "metadata": {},
   "outputs": [],
   "source": [
    "# model.save(r'model\\vgg19gap.h5')   "
   ]
  }
 ],
 "metadata": {
  "kernelspec": {
   "name": "Python 3.7.6 64-bit ('deeplearninggpu': conda)",
   "display_name": "Python 3.7.6 64-bit ('deeplearninggpu': conda)",
   "metadata": {
    "interpreter": {
     "hash": "15477a1b24ab630483281d8ad8d5fed9a76b0c7c1968a3917aef97a25081d679"
    }
   }
  },
  "language_info": {
   "codemirror_mode": {
    "name": "ipython",
    "version": 3
   },
   "file_extension": ".py",
   "mimetype": "text/x-python",
   "name": "python",
   "nbconvert_exporter": "python",
   "pygments_lexer": "ipython3",
   "version": "3.7.6-final"
  }
 },
 "nbformat": 4,
 "nbformat_minor": 4
}